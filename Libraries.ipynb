{
 "cells": [
  {
   "cell_type": "code",
   "execution_count": 1,
   "id": "72f9d9f7",
   "metadata": {},
   "outputs": [
    {
     "name": "stdout",
     "output_type": "stream",
     "text": [
      "Requirement already satisfied: matplotlib in c:\\users\\brije\\anaconda3\\lib\\site-packages (3.7.1)\n",
      "Requirement already satisfied: kiwisolver>=1.0.1 in c:\\users\\brije\\anaconda3\\lib\\site-packages (from matplotlib) (1.4.4)\n",
      "Requirement already satisfied: pillow>=6.2.0 in c:\\users\\brije\\anaconda3\\lib\\site-packages (from matplotlib) (9.4.0)\n",
      "Requirement already satisfied: pyparsing>=2.3.1 in c:\\users\\brije\\anaconda3\\lib\\site-packages (from matplotlib) (3.0.9)\n",
      "Requirement already satisfied: contourpy>=1.0.1 in c:\\users\\brije\\anaconda3\\lib\\site-packages (from matplotlib) (1.0.5)\n",
      "Requirement already satisfied: packaging>=20.0 in c:\\users\\brije\\anaconda3\\lib\\site-packages (from matplotlib) (23.0)\n",
      "Requirement already satisfied: cycler>=0.10 in c:\\users\\brije\\anaconda3\\lib\\site-packages (from matplotlib) (0.11.0)\n",
      "Requirement already satisfied: python-dateutil>=2.7 in c:\\users\\brije\\anaconda3\\lib\\site-packages (from matplotlib) (2.8.2)\n",
      "Requirement already satisfied: numpy>=1.20 in c:\\users\\brije\\anaconda3\\lib\\site-packages (from matplotlib) (1.21.5)\n",
      "Requirement already satisfied: fonttools>=4.22.0 in c:\\users\\brije\\anaconda3\\lib\\site-packages (from matplotlib) (4.25.0)\n",
      "Requirement already satisfied: importlib-resources>=3.2.0 in c:\\users\\brije\\anaconda3\\lib\\site-packages (from matplotlib) (5.2.0)\n",
      "Requirement already satisfied: zipp>=3.1.0 in c:\\users\\brije\\anaconda3\\lib\\site-packages (from importlib-resources>=3.2.0->matplotlib) (3.11.0)\n",
      "Requirement already satisfied: six>=1.5 in c:\\users\\brije\\anaconda3\\lib\\site-packages (from python-dateutil>=2.7->matplotlib) (1.16.0)\n",
      "Note: you may need to restart the kernel to use updated packages.\n"
     ]
    }
   ],
   "source": [
    "pip install matplotlib"
   ]
  },
  {
   "cell_type": "code",
   "execution_count": 2,
   "id": "34ba45f2",
   "metadata": {},
   "outputs": [],
   "source": [
    "import matplotlib as mpb"
   ]
  },
  {
   "cell_type": "code",
   "execution_count": 3,
   "id": "de67e2b0",
   "metadata": {},
   "outputs": [
    {
     "name": "stdout",
     "output_type": "stream",
     "text": [
      "Requirement already satisfied: sqlalchemy in c:\\users\\brije\\anaconda3\\lib\\site-packages (1.4.39)\n",
      "Requirement already satisfied: greenlet!=0.4.17 in c:\\users\\brije\\anaconda3\\lib\\site-packages (from sqlalchemy) (2.0.1)\n",
      "Note: you may need to restart the kernel to use updated packages.\n"
     ]
    }
   ],
   "source": [
    "pip install sqlalchemy"
   ]
  },
  {
   "cell_type": "code",
   "execution_count": 4,
   "id": "70e7760c",
   "metadata": {},
   "outputs": [],
   "source": [
    "import sqlalchemy"
   ]
  },
  {
   "cell_type": "code",
   "execution_count": 5,
   "id": "2235c569",
   "metadata": {},
   "outputs": [
    {
     "name": "stdout",
     "output_type": "stream",
     "text": [
      "Requirement already satisfied: lxml in c:\\users\\brije\\anaconda3\\lib\\site-packages (4.9.1)\n",
      "Note: you may need to restart the kernel to use updated packages.\n"
     ]
    }
   ],
   "source": [
    "pip install lxml"
   ]
  },
  {
   "cell_type": "code",
   "execution_count": 6,
   "id": "083a0da3",
   "metadata": {},
   "outputs": [],
   "source": [
    "import lxml"
   ]
  },
  {
   "cell_type": "code",
   "execution_count": 7,
   "id": "65060272",
   "metadata": {},
   "outputs": [
    {
     "name": "stdout",
     "output_type": "stream",
     "text": [
      "Requirement already satisfied: html5lib in c:\\users\\brije\\anaconda3\\lib\\site-packages (1.1)\n",
      "Requirement already satisfied: six>=1.9 in c:\\users\\brije\\anaconda3\\lib\\site-packages (from html5lib) (1.16.0)\n",
      "Requirement already satisfied: webencodings in c:\\users\\brije\\anaconda3\\lib\\site-packages (from html5lib) (0.5.1)\n",
      "Note: you may need to restart the kernel to use updated packages.\n"
     ]
    }
   ],
   "source": [
    "pip install html5lib"
   ]
  },
  {
   "cell_type": "code",
   "execution_count": 8,
   "id": "81889382",
   "metadata": {},
   "outputs": [],
   "source": [
    "import html5lib"
   ]
  },
  {
   "cell_type": "code",
   "execution_count": null,
   "id": "21bfbcf1",
   "metadata": {},
   "outputs": [],
   "source": [
    "pip install BeautifulSoup4"
   ]
  },
  {
   "cell_type": "code",
   "execution_count": 14,
   "id": "ef5f8fda",
   "metadata": {},
   "outputs": [
    {
     "name": "stdout",
     "output_type": "stream",
     "text": [
      "Requirement already satisfied: beautifulsoup4 in c:\\users\\brije\\anaconda3\\lib\\site-packages (4.12.2)\n",
      "Requirement already satisfied: soupsieve>1.2 in c:\\users\\brije\\anaconda3\\lib\\site-packages (from beautifulsoup4) (2.3.2.post1)\n",
      "Note: you may need to restart the kernel to use updated packages.\n"
     ]
    }
   ],
   "source": [
    "pip install beautifulsoup4"
   ]
  },
  {
   "cell_type": "code",
   "execution_count": 20,
   "id": "4e033136",
   "metadata": {},
   "outputs": [],
   "source": [
    "from bs4 import BeautifulSoup"
   ]
  },
  {
   "cell_type": "code",
   "execution_count": 17,
   "id": "325e9e87",
   "metadata": {},
   "outputs": [],
   "source": [
    "import bs4"
   ]
  },
  {
   "cell_type": "code",
   "execution_count": 18,
   "id": "4b1ab3ce",
   "metadata": {},
   "outputs": [
    {
     "name": "stdout",
     "output_type": "stream",
     "text": [
      "Requirement already satisfied: bs4 in c:\\users\\brije\\anaconda3\\lib\\site-packages (0.0.1)\n",
      "Requirement already satisfied: beautifulsoup4 in c:\\users\\brije\\anaconda3\\lib\\site-packages (from bs4) (4.12.2)\n",
      "Requirement already satisfied: soupsieve>1.2 in c:\\users\\brije\\anaconda3\\lib\\site-packages (from beautifulsoup4->bs4) (2.3.2.post1)\n",
      "Note: you may need to restart the kernel to use updated packages.\n"
     ]
    }
   ],
   "source": [
    "pip install bs4"
   ]
  },
  {
   "cell_type": "code",
   "execution_count": 21,
   "id": "97702da6",
   "metadata": {},
   "outputs": [
    {
     "name": "stdout",
     "output_type": "stream",
     "text": [
      "Collecting pyMYSQL\n",
      "  Downloading PyMySQL-1.0.3-py3-none-any.whl (43 kB)\n",
      "     ---------------------------------------- 0.0/43.7 kB ? eta -:--:--\n",
      "     ----------------- -------------------- 20.5/43.7 kB 330.3 kB/s eta 0:00:01\n",
      "     ----------------- -------------------- 20.5/43.7 kB 330.3 kB/s eta 0:00:01\n",
      "     -------------------------- ----------- 30.7/43.7 kB 217.9 kB/s eta 0:00:01\n",
      "     -------------------------- ----------- 30.7/43.7 kB 217.9 kB/s eta 0:00:01\n",
      "     -------------------------- ----------- 30.7/43.7 kB 217.9 kB/s eta 0:00:01\n",
      "     ----------------------------------- -- 41.0/43.7 kB 115.5 kB/s eta 0:00:01\n",
      "     -------------------------------------- 43.7/43.7 kB 126.0 kB/s eta 0:00:00\n",
      "Installing collected packages: pyMYSQL\n",
      "Successfully installed pyMYSQL-1.0.3\n",
      "Note: you may need to restart the kernel to use updated packages.\n"
     ]
    }
   ],
   "source": [
    "pip install pyMYSQL"
   ]
  },
  {
   "cell_type": "code",
   "execution_count": 1,
   "id": "af76328a",
   "metadata": {},
   "outputs": [
    {
     "name": "stdout",
     "output_type": "stream",
     "text": [
      "Requirement already satisfied: seaborn in c:\\users\\brije\\anaconda3\\lib\\site-packages (0.12.2)\n",
      "Requirement already satisfied: pandas>=0.25 in c:\\users\\brije\\anaconda3\\lib\\site-packages (from seaborn) (1.4.2)\n",
      "Requirement already satisfied: matplotlib!=3.6.1,>=3.1 in c:\\users\\brije\\anaconda3\\lib\\site-packages (from seaborn) (3.7.1)\n",
      "Requirement already satisfied: numpy!=1.24.0,>=1.17 in c:\\users\\brije\\anaconda3\\lib\\site-packages (from seaborn) (1.21.5)\n",
      "Requirement already satisfied: fonttools>=4.22.0 in c:\\users\\brije\\anaconda3\\lib\\site-packages (from matplotlib!=3.6.1,>=3.1->seaborn) (4.25.0)\n",
      "Requirement already satisfied: pyparsing>=2.3.1 in c:\\users\\brije\\anaconda3\\lib\\site-packages (from matplotlib!=3.6.1,>=3.1->seaborn) (3.0.9)\n",
      "Requirement already satisfied: importlib-resources>=3.2.0 in c:\\users\\brije\\anaconda3\\lib\\site-packages (from matplotlib!=3.6.1,>=3.1->seaborn) (5.2.0)\n",
      "Requirement already satisfied: pillow>=6.2.0 in c:\\users\\brije\\anaconda3\\lib\\site-packages (from matplotlib!=3.6.1,>=3.1->seaborn) (9.4.0)\n",
      "Requirement already satisfied: cycler>=0.10 in c:\\users\\brije\\anaconda3\\lib\\site-packages (from matplotlib!=3.6.1,>=3.1->seaborn) (0.11.0)\n",
      "Requirement already satisfied: python-dateutil>=2.7 in c:\\users\\brije\\anaconda3\\lib\\site-packages (from matplotlib!=3.6.1,>=3.1->seaborn) (2.8.2)\n",
      "Requirement already satisfied: packaging>=20.0 in c:\\users\\brije\\anaconda3\\lib\\site-packages (from matplotlib!=3.6.1,>=3.1->seaborn) (23.0)\n",
      "Requirement already satisfied: contourpy>=1.0.1 in c:\\users\\brije\\anaconda3\\lib\\site-packages (from matplotlib!=3.6.1,>=3.1->seaborn) (1.0.5)\n",
      "Requirement already satisfied: kiwisolver>=1.0.1 in c:\\users\\brije\\anaconda3\\lib\\site-packages (from matplotlib!=3.6.1,>=3.1->seaborn) (1.4.4)\n",
      "Requirement already satisfied: pytz>=2020.1 in c:\\users\\brije\\anaconda3\\lib\\site-packages (from pandas>=0.25->seaborn) (2022.7)\n",
      "Requirement already satisfied: zipp>=3.1.0 in c:\\users\\brije\\anaconda3\\lib\\site-packages (from importlib-resources>=3.2.0->matplotlib!=3.6.1,>=3.1->seaborn) (3.11.0)\n",
      "Requirement already satisfied: six>=1.5 in c:\\users\\brije\\anaconda3\\lib\\site-packages (from python-dateutil>=2.7->matplotlib!=3.6.1,>=3.1->seaborn) (1.16.0)\n",
      "Note: you may need to restart the kernel to use updated packages.\n"
     ]
    }
   ],
   "source": [
    "pip install seaborn"
   ]
  },
  {
   "cell_type": "code",
   "execution_count": 1,
   "id": "860bd1c7",
   "metadata": {},
   "outputs": [
    {
     "name": "stdout",
     "output_type": "stream",
     "text": [
      "Requirement already satisfied: plotly in c:\\users\\brije\\anaconda3\\lib\\site-packages (5.9.0)\n",
      "Requirement already satisfied: tenacity>=6.2.0 in c:\\users\\brije\\anaconda3\\lib\\site-packages (from plotly) (8.0.1)\n",
      "Note: you may need to restart the kernel to use updated packages.\n"
     ]
    }
   ],
   "source": [
    "pip install plotly"
   ]
  },
  {
   "cell_type": "code",
   "execution_count": 2,
   "id": "c2f28c5b",
   "metadata": {},
   "outputs": [
    {
     "name": "stdout",
     "output_type": "stream",
     "text": [
      "Collecting cufflinks\n",
      "  Downloading cufflinks-0.17.3.tar.gz (81 kB)\n",
      "     ---------------------------------------- 0.0/81.7 kB ? eta -:--:--\n",
      "     -------------- ----------------------- 30.7/81.7 kB 660.6 kB/s eta 0:00:01\n",
      "     -------------- ----------------------- 30.7/81.7 kB 660.6 kB/s eta 0:00:01\n",
      "     -------------- ----------------------- 30.7/81.7 kB 660.6 kB/s eta 0:00:01\n",
      "     -------------------------------------- 81.7/81.7 kB 415.7 kB/s eta 0:00:00\n",
      "  Preparing metadata (setup.py): started\n",
      "  Preparing metadata (setup.py): finished with status 'done'\n",
      "Requirement already satisfied: numpy>=1.9.2 in c:\\users\\brije\\anaconda3\\lib\\site-packages (from cufflinks) (1.21.5)\n",
      "Requirement already satisfied: pandas>=0.19.2 in c:\\users\\brije\\anaconda3\\lib\\site-packages (from cufflinks) (1.4.2)\n",
      "Requirement already satisfied: plotly>=4.1.1 in c:\\users\\brije\\anaconda3\\lib\\site-packages (from cufflinks) (5.9.0)\n",
      "Requirement already satisfied: six>=1.9.0 in c:\\users\\brije\\anaconda3\\lib\\site-packages (from cufflinks) (1.16.0)\n",
      "Collecting colorlover>=0.2.1\n",
      "  Downloading colorlover-0.3.0-py3-none-any.whl (8.9 kB)\n",
      "Requirement already satisfied: setuptools>=34.4.1 in c:\\users\\brije\\anaconda3\\lib\\site-packages (from cufflinks) (65.6.3)\n",
      "Requirement already satisfied: ipython>=5.3.0 in c:\\users\\brije\\anaconda3\\lib\\site-packages (from cufflinks) (8.10.0)\n",
      "Requirement already satisfied: ipywidgets>=7.0.0 in c:\\users\\brije\\anaconda3\\lib\\site-packages (from cufflinks) (8.0.4)\n",
      "Requirement already satisfied: traitlets>=5 in c:\\users\\brije\\anaconda3\\lib\\site-packages (from ipython>=5.3.0->cufflinks) (5.7.1)\n",
      "Requirement already satisfied: decorator in c:\\users\\brije\\anaconda3\\lib\\site-packages (from ipython>=5.3.0->cufflinks) (5.1.1)\n",
      "Requirement already satisfied: stack-data in c:\\users\\brije\\anaconda3\\lib\\site-packages (from ipython>=5.3.0->cufflinks) (0.2.0)\n",
      "Requirement already satisfied: pickleshare in c:\\users\\brije\\anaconda3\\lib\\site-packages (from ipython>=5.3.0->cufflinks) (0.7.5)\n",
      "Requirement already satisfied: colorama in c:\\users\\brije\\anaconda3\\lib\\site-packages (from ipython>=5.3.0->cufflinks) (0.4.6)\n",
      "Requirement already satisfied: pygments>=2.4.0 in c:\\users\\brije\\anaconda3\\lib\\site-packages (from ipython>=5.3.0->cufflinks) (2.11.2)\n",
      "Requirement already satisfied: matplotlib-inline in c:\\users\\brije\\anaconda3\\lib\\site-packages (from ipython>=5.3.0->cufflinks) (0.1.6)\n",
      "Requirement already satisfied: prompt-toolkit<3.1.0,>=3.0.30 in c:\\users\\brije\\anaconda3\\lib\\site-packages (from ipython>=5.3.0->cufflinks) (3.0.36)\n",
      "Requirement already satisfied: backcall in c:\\users\\brije\\anaconda3\\lib\\site-packages (from ipython>=5.3.0->cufflinks) (0.2.0)\n",
      "Requirement already satisfied: jedi>=0.16 in c:\\users\\brije\\anaconda3\\lib\\site-packages (from ipython>=5.3.0->cufflinks) (0.18.1)\n",
      "Requirement already satisfied: ipykernel>=4.5.1 in c:\\users\\brije\\anaconda3\\lib\\site-packages (from ipywidgets>=7.0.0->cufflinks) (6.19.2)\n",
      "Requirement already satisfied: jupyterlab-widgets~=3.0 in c:\\users\\brije\\anaconda3\\lib\\site-packages (from ipywidgets>=7.0.0->cufflinks) (3.0.5)\n",
      "Requirement already satisfied: widgetsnbextension~=4.0 in c:\\users\\brije\\anaconda3\\lib\\site-packages (from ipywidgets>=7.0.0->cufflinks) (4.0.5)\n",
      "Requirement already satisfied: pytz>=2020.1 in c:\\users\\brije\\anaconda3\\lib\\site-packages (from pandas>=0.19.2->cufflinks) (2022.7)\n",
      "Requirement already satisfied: python-dateutil>=2.8.1 in c:\\users\\brije\\anaconda3\\lib\\site-packages (from pandas>=0.19.2->cufflinks) (2.8.2)\n",
      "Requirement already satisfied: tenacity>=6.2.0 in c:\\users\\brije\\anaconda3\\lib\\site-packages (from plotly>=4.1.1->cufflinks) (8.0.1)\n",
      "Requirement already satisfied: jupyter-client>=6.1.12 in c:\\users\\brije\\anaconda3\\lib\\site-packages (from ipykernel>=4.5.1->ipywidgets>=7.0.0->cufflinks) (7.4.9)\n",
      "Requirement already satisfied: psutil in c:\\users\\brije\\anaconda3\\lib\\site-packages (from ipykernel>=4.5.1->ipywidgets>=7.0.0->cufflinks) (5.9.0)\n",
      "Requirement already satisfied: pyzmq>=17 in c:\\users\\brije\\anaconda3\\lib\\site-packages (from ipykernel>=4.5.1->ipywidgets>=7.0.0->cufflinks) (23.2.0)\n",
      "Requirement already satisfied: comm>=0.1.1 in c:\\users\\brije\\anaconda3\\lib\\site-packages (from ipykernel>=4.5.1->ipywidgets>=7.0.0->cufflinks) (0.1.2)\n",
      "Requirement already satisfied: packaging in c:\\users\\brije\\anaconda3\\lib\\site-packages (from ipykernel>=4.5.1->ipywidgets>=7.0.0->cufflinks) (23.0)\n",
      "Requirement already satisfied: debugpy>=1.0 in c:\\users\\brije\\anaconda3\\lib\\site-packages (from ipykernel>=4.5.1->ipywidgets>=7.0.0->cufflinks) (1.5.1)\n",
      "Requirement already satisfied: tornado>=6.1 in c:\\users\\brije\\anaconda3\\lib\\site-packages (from ipykernel>=4.5.1->ipywidgets>=7.0.0->cufflinks) (6.2)\n",
      "Requirement already satisfied: nest-asyncio in c:\\users\\brije\\anaconda3\\lib\\site-packages (from ipykernel>=4.5.1->ipywidgets>=7.0.0->cufflinks) (1.5.6)\n",
      "Requirement already satisfied: parso<0.9.0,>=0.8.0 in c:\\users\\brije\\anaconda3\\lib\\site-packages (from jedi>=0.16->ipython>=5.3.0->cufflinks) (0.8.3)\n",
      "Requirement already satisfied: wcwidth in c:\\users\\brije\\anaconda3\\lib\\site-packages (from prompt-toolkit<3.1.0,>=3.0.30->ipython>=5.3.0->cufflinks) (0.2.5)\n",
      "Requirement already satisfied: executing in c:\\users\\brije\\anaconda3\\lib\\site-packages (from stack-data->ipython>=5.3.0->cufflinks) (0.8.3)\n",
      "Requirement already satisfied: pure-eval in c:\\users\\brije\\anaconda3\\lib\\site-packages (from stack-data->ipython>=5.3.0->cufflinks) (0.2.2)\n",
      "Requirement already satisfied: asttokens in c:\\users\\brije\\anaconda3\\lib\\site-packages (from stack-data->ipython>=5.3.0->cufflinks) (2.0.5)\n",
      "Requirement already satisfied: entrypoints in c:\\users\\brije\\anaconda3\\lib\\site-packages (from jupyter-client>=6.1.12->ipykernel>=4.5.1->ipywidgets>=7.0.0->cufflinks) (0.4)\n",
      "Requirement already satisfied: jupyter-core>=4.9.2 in c:\\users\\brije\\anaconda3\\lib\\site-packages (from jupyter-client>=6.1.12->ipykernel>=4.5.1->ipywidgets>=7.0.0->cufflinks) (5.3.0)\n",
      "Requirement already satisfied: pywin32>=300 in c:\\users\\brije\\anaconda3\\lib\\site-packages (from jupyter-core>=4.9.2->jupyter-client>=6.1.12->ipykernel>=4.5.1->ipywidgets>=7.0.0->cufflinks) (305.1)\n",
      "Requirement already satisfied: platformdirs>=2.5 in c:\\users\\brije\\anaconda3\\lib\\site-packages (from jupyter-core>=4.9.2->jupyter-client>=6.1.12->ipykernel>=4.5.1->ipywidgets>=7.0.0->cufflinks) (2.5.2)\n",
      "Building wheels for collected packages: cufflinks\n",
      "  Building wheel for cufflinks (setup.py): started\n",
      "  Building wheel for cufflinks (setup.py): finished with status 'done'\n",
      "  Created wheel for cufflinks: filename=cufflinks-0.17.3-py3-none-any.whl size=68725 sha256=7bde456143400fdb577a8fc5c5ae808a66a2d45e12d5430951e0f269c92d6945\n",
      "  Stored in directory: c:\\users\\brije\\appdata\\local\\pip\\cache\\wheels\\29\\b4\\f8\\2fd2206eeeba6ccad8167e4e8894b8c4ec27bf1342037fd136\n",
      "Successfully built cufflinks\n",
      "Installing collected packages: colorlover, cufflinks\n",
      "Successfully installed colorlover-0.3.0 cufflinks-0.17.3\n",
      "Note: you may need to restart the kernel to use updated packages.\n"
     ]
    }
   ],
   "source": [
    "pip install cufflinks"
   ]
  },
  {
   "cell_type": "code",
   "execution_count": 3,
   "id": "3875cacd",
   "metadata": {},
   "outputs": [
    {
     "name": "stdout",
     "output_type": "stream",
     "text": [
      "Collecting chart-studio\n",
      "  Downloading chart_studio-1.1.0-py3-none-any.whl (64 kB)\n",
      "     ---------------------------------------- 0.0/64.4 kB ? eta -:--:--\n",
      "     ------------------- -------------------- 30.7/64.4 kB ? eta -:--:--\n",
      "     ---------------------------------------- 64.4/64.4 kB 1.2 MB/s eta 0:00:00\n",
      "Collecting retrying>=1.3.3\n",
      "  Downloading retrying-1.3.4-py3-none-any.whl (11 kB)\n",
      "Requirement already satisfied: plotly in c:\\users\\brije\\anaconda3\\lib\\site-packages (from chart-studio) (5.9.0)\n",
      "Requirement already satisfied: requests in c:\\users\\brije\\anaconda3\\lib\\site-packages (from chart-studio) (2.28.1)\n",
      "Requirement already satisfied: six in c:\\users\\brije\\anaconda3\\lib\\site-packages (from chart-studio) (1.16.0)\n",
      "Requirement already satisfied: tenacity>=6.2.0 in c:\\users\\brije\\anaconda3\\lib\\site-packages (from plotly->chart-studio) (8.0.1)\n",
      "Requirement already satisfied: idna<4,>=2.5 in c:\\users\\brije\\anaconda3\\lib\\site-packages (from requests->chart-studio) (3.4)\n",
      "Requirement already satisfied: charset-normalizer<3,>=2 in c:\\users\\brije\\anaconda3\\lib\\site-packages (from requests->chart-studio) (2.0.4)\n",
      "Requirement already satisfied: certifi>=2017.4.17 in c:\\users\\brije\\anaconda3\\lib\\site-packages (from requests->chart-studio) (2023.5.7)\n",
      "Requirement already satisfied: urllib3<1.27,>=1.21.1 in c:\\users\\brije\\anaconda3\\lib\\site-packages (from requests->chart-studio) (1.26.14)\n",
      "Installing collected packages: retrying, chart-studio\n",
      "Successfully installed chart-studio-1.1.0 retrying-1.3.4\n",
      "Note: you may need to restart the kernel to use updated packages.\n"
     ]
    }
   ],
   "source": [
    "pip install chart-studio"
   ]
  },
  {
   "cell_type": "code",
   "execution_count": 4,
   "id": "9de5293f",
   "metadata": {},
   "outputs": [
    {
     "name": "stdout",
     "output_type": "stream",
     "text": [
      "Collecting mercator\n",
      "  Downloading mercator-0.1.11.tar.gz (9.6 kB)\n",
      "  Preparing metadata (setup.py): started\n",
      "  Preparing metadata (setup.py): finished with status 'done'\n",
      "Collecting grpcio-tools>=1.21.1\n",
      "  Downloading grpcio_tools-1.54.2-cp39-cp39-win_amd64.whl (1.7 MB)\n",
      "     ---------------------------------------- 0.0/1.7 MB ? eta -:--:--\n",
      "      --------------------------------------- 0.0/1.7 MB 640.0 kB/s eta 0:00:03\n",
      "     - -------------------------------------- 0.1/1.7 MB 648.1 kB/s eta 0:00:03\n",
      "     -- ------------------------------------- 0.1/1.7 MB 901.1 kB/s eta 0:00:02\n",
      "     ---- ----------------------------------- 0.2/1.7 MB 1.2 MB/s eta 0:00:02\n",
      "     ------- -------------------------------- 0.3/1.7 MB 1.5 MB/s eta 0:00:01\n",
      "     ---------- ----------------------------- 0.5/1.7 MB 1.7 MB/s eta 0:00:01\n",
      "     -------------- ------------------------- 0.6/1.7 MB 2.0 MB/s eta 0:00:01\n",
      "     ------------------ --------------------- 0.8/1.7 MB 2.1 MB/s eta 0:00:01\n",
      "     --------------------- ------------------ 0.9/1.7 MB 2.3 MB/s eta 0:00:01\n",
      "     ------------------------- -------------- 1.1/1.7 MB 2.4 MB/s eta 0:00:01\n",
      "     ---------------------------- ----------- 1.2/1.7 MB 2.6 MB/s eta 0:00:01\n",
      "     --------------------------------- ------ 1.4/1.7 MB 2.6 MB/s eta 0:00:01\n",
      "     ------------------------------------ --- 1.5/1.7 MB 2.7 MB/s eta 0:00:01\n",
      "     ---------------------------------------- 1.7/1.7 MB 2.7 MB/s eta 0:00:00\n",
      "Collecting grpcio>=1.21.1\n",
      "  Downloading grpcio-1.54.2-cp39-cp39-win_amd64.whl (4.1 MB)\n",
      "     ---------------------------------------- 0.0/4.1 MB ? eta -:--:--\n",
      "     -- ------------------------------------- 0.3/4.1 MB 9.3 MB/s eta 0:00:01\n",
      "     ---- ----------------------------------- 0.5/4.1 MB 5.0 MB/s eta 0:00:01\n",
      "     ------ --------------------------------- 0.7/4.1 MB 4.9 MB/s eta 0:00:01\n",
      "     --------- ------------------------------ 0.9/4.1 MB 5.4 MB/s eta 0:00:01\n",
      "     ---------- ----------------------------- 1.1/4.1 MB 5.0 MB/s eta 0:00:01\n",
      "     ------------ --------------------------- 1.3/4.1 MB 4.9 MB/s eta 0:00:01\n",
      "     --------------- ------------------------ 1.6/4.1 MB 5.1 MB/s eta 0:00:01\n",
      "     ----------------- ---------------------- 1.8/4.1 MB 4.9 MB/s eta 0:00:01\n",
      "     ------------------- -------------------- 2.0/4.1 MB 4.8 MB/s eta 0:00:01\n",
      "     -------------------- ------------------- 2.1/4.1 MB 4.7 MB/s eta 0:00:01\n",
      "     ---------------------- ----------------- 2.3/4.1 MB 4.5 MB/s eta 0:00:01\n",
      "     ------------------------ --------------- 2.5/4.1 MB 4.6 MB/s eta 0:00:01\n",
      "     --------------------------- ------------ 2.9/4.1 MB 4.8 MB/s eta 0:00:01\n",
      "     ------------------------------ --------- 3.1/4.1 MB 4.9 MB/s eta 0:00:01\n",
      "     ------------------------------ --------- 3.2/4.1 MB 4.8 MB/s eta 0:00:01\n",
      "     -------------------------------- ------- 3.4/4.1 MB 4.6 MB/s eta 0:00:01\n",
      "     ------------------------------------ --- 3.7/4.1 MB 4.7 MB/s eta 0:00:01\n",
      "     -------------------------------------- - 4.0/4.1 MB 4.8 MB/s eta 0:00:01\n",
      "     ---------------------------------------- 4.1/4.1 MB 4.7 MB/s eta 0:00:00\n",
      "Collecting protobuf>=3.7.0\n",
      "  Downloading protobuf-4.23.2-cp39-cp39-win_amd64.whl (422 kB)\n",
      "     ---------------------------------------- 0.0/422.5 kB ? eta -:--:--\n",
      "     ------------------------ ------------- 276.5/422.5 kB 8.6 MB/s eta 0:00:01\n",
      "     -------------------------------------- 422.5/422.5 kB 6.5 MB/s eta 0:00:00\n",
      "Requirement already satisfied: requests>=2.21.0 in c:\\users\\brije\\anaconda3\\lib\\site-packages (from mercator) (2.28.1)\n",
      "Collecting sphinx-rtd-theme>=0.4.3\n",
      "  Downloading sphinx_rtd_theme-1.2.1-py2.py3-none-any.whl (2.8 MB)\n",
      "     ---------------------------------------- 0.0/2.8 MB ? eta -:--:--\n",
      "     ---- ----------------------------------- 0.3/2.8 MB 8.9 MB/s eta 0:00:01\n",
      "     ------- -------------------------------- 0.5/2.8 MB 6.7 MB/s eta 0:00:01\n",
      "     ----------- ---------------------------- 0.8/2.8 MB 6.2 MB/s eta 0:00:01\n",
      "     -------------- ------------------------- 1.0/2.8 MB 5.7 MB/s eta 0:00:01\n",
      "     -------------- ------------------------- 1.0/2.8 MB 5.5 MB/s eta 0:00:01\n",
      "     --------------- ------------------------ 1.1/2.8 MB 4.0 MB/s eta 0:00:01\n",
      "     ------------------ --------------------- 1.3/2.8 MB 4.2 MB/s eta 0:00:01\n",
      "     ----------------------- ---------------- 1.7/2.8 MB 4.7 MB/s eta 0:00:01\n",
      "     ---------------------------- ----------- 2.0/2.8 MB 5.0 MB/s eta 0:00:01\n",
      "     ---------------------------------- ----- 2.4/2.8 MB 5.3 MB/s eta 0:00:01\n",
      "     -------------------------------------- - 2.7/2.8 MB 5.4 MB/s eta 0:00:01\n",
      "     ---------------------------------------- 2.8/2.8 MB 5.3 MB/s eta 0:00:00\n",
      "Requirement already satisfied: sphinx>=1.8.5 in c:\\users\\brije\\anaconda3\\lib\\site-packages (from mercator) (5.0.2)\n",
      "Requirement already satisfied: setuptools in c:\\users\\brije\\anaconda3\\lib\\site-packages (from grpcio-tools>=1.21.1->mercator) (65.6.3)\n",
      "Requirement already satisfied: urllib3<1.27,>=1.21.1 in c:\\users\\brije\\anaconda3\\lib\\site-packages (from requests>=2.21.0->mercator) (1.26.14)\n",
      "Requirement already satisfied: idna<4,>=2.5 in c:\\users\\brije\\anaconda3\\lib\\site-packages (from requests>=2.21.0->mercator) (3.4)\n",
      "Requirement already satisfied: certifi>=2017.4.17 in c:\\users\\brije\\anaconda3\\lib\\site-packages (from requests>=2.21.0->mercator) (2023.5.7)\n",
      "Requirement already satisfied: charset-normalizer<3,>=2 in c:\\users\\brije\\anaconda3\\lib\\site-packages (from requests>=2.21.0->mercator) (2.0.4)\n",
      "Requirement already satisfied: sphinxcontrib-jsmath in c:\\users\\brije\\anaconda3\\lib\\site-packages (from sphinx>=1.8.5->mercator) (1.0.1)\n",
      "Requirement already satisfied: Pygments>=2.0 in c:\\users\\brije\\anaconda3\\lib\\site-packages (from sphinx>=1.8.5->mercator) (2.11.2)\n",
      "Requirement already satisfied: packaging in c:\\users\\brije\\anaconda3\\lib\\site-packages (from sphinx>=1.8.5->mercator) (23.0)\n",
      "Requirement already satisfied: babel>=1.3 in c:\\users\\brije\\anaconda3\\lib\\site-packages (from sphinx>=1.8.5->mercator) (2.11.0)\n",
      "Requirement already satisfied: sphinxcontrib-qthelp in c:\\users\\brije\\anaconda3\\lib\\site-packages (from sphinx>=1.8.5->mercator) (1.0.3)\n",
      "Requirement already satisfied: docutils<0.19,>=0.14 in c:\\users\\brije\\anaconda3\\lib\\site-packages (from sphinx>=1.8.5->mercator) (0.18.1)\n",
      "Requirement already satisfied: imagesize in c:\\users\\brije\\anaconda3\\lib\\site-packages (from sphinx>=1.8.5->mercator) (1.4.1)\n",
      "Requirement already satisfied: importlib-metadata>=4.4 in c:\\users\\brije\\anaconda3\\lib\\site-packages (from sphinx>=1.8.5->mercator) (6.0.0)\n",
      "Requirement already satisfied: sphinxcontrib-htmlhelp>=2.0.0 in c:\\users\\brije\\anaconda3\\lib\\site-packages (from sphinx>=1.8.5->mercator) (2.0.0)\n",
      "Requirement already satisfied: alabaster<0.8,>=0.7 in c:\\users\\brije\\anaconda3\\lib\\site-packages (from sphinx>=1.8.5->mercator) (0.7.12)\n",
      "Requirement already satisfied: sphinxcontrib-serializinghtml>=1.1.5 in c:\\users\\brije\\anaconda3\\lib\\site-packages (from sphinx>=1.8.5->mercator) (1.1.5)\n",
      "Requirement already satisfied: snowballstemmer>=1.1 in c:\\users\\brije\\anaconda3\\lib\\site-packages (from sphinx>=1.8.5->mercator) (2.2.0)\n",
      "Requirement already satisfied: Jinja2>=2.3 in c:\\users\\brije\\anaconda3\\lib\\site-packages (from sphinx>=1.8.5->mercator) (2.11.3)\n",
      "Requirement already satisfied: sphinxcontrib-devhelp in c:\\users\\brije\\anaconda3\\lib\\site-packages (from sphinx>=1.8.5->mercator) (1.0.2)\n",
      "Requirement already satisfied: colorama>=0.3.5 in c:\\users\\brije\\anaconda3\\lib\\site-packages (from sphinx>=1.8.5->mercator) (0.4.6)\n",
      "Requirement already satisfied: sphinxcontrib-applehelp in c:\\users\\brije\\anaconda3\\lib\\site-packages (from sphinx>=1.8.5->mercator) (1.0.2)\n",
      "Collecting sphinxcontrib-jquery!=3.0.0,>=2.0.0\n",
      "  Downloading sphinxcontrib_jquery-4.1-py2.py3-none-any.whl (121 kB)\n",
      "     ---------------------------------------- 0.0/121.1 kB ? eta -:--:--\n",
      "     ----------------------------------- -- 112.6/121.1 kB 6.4 MB/s eta 0:00:01\n",
      "     -------------------------------------- 121.1/121.1 kB 3.6 MB/s eta 0:00:00\n",
      "Requirement already satisfied: pytz>=2015.7 in c:\\users\\brije\\anaconda3\\lib\\site-packages (from babel>=1.3->sphinx>=1.8.5->mercator) (2022.7)\n",
      "Requirement already satisfied: zipp>=0.5 in c:\\users\\brije\\anaconda3\\lib\\site-packages (from importlib-metadata>=4.4->sphinx>=1.8.5->mercator) (3.11.0)\n",
      "Requirement already satisfied: MarkupSafe>=0.23 in c:\\users\\brije\\anaconda3\\lib\\site-packages (from Jinja2>=2.3->sphinx>=1.8.5->mercator) (2.0.1)\n",
      "Building wheels for collected packages: mercator\n",
      "  Building wheel for mercator (setup.py): started\n",
      "  Building wheel for mercator (setup.py): finished with status 'done'\n",
      "  Created wheel for mercator: filename=mercator-0.1.11-py2.py3-none-any.whl size=8193 sha256=2ab580fd4396d92d8e230a54801dae83650bdfcafadd55be3222538cf7b0adfe\n",
      "  Stored in directory: c:\\users\\brije\\appdata\\local\\pip\\cache\\wheels\\e6\\ef\\99\\fef5a1bd619ea9fa9080e770a0c1a5de68beff575b02aa45a2\n",
      "Successfully built mercator\n",
      "Installing collected packages: protobuf, grpcio, grpcio-tools, sphinxcontrib-jquery, sphinx-rtd-theme, mercator\n",
      "Successfully installed grpcio-1.54.2 grpcio-tools-1.54.2 mercator-0.1.11 protobuf-4.23.2 sphinx-rtd-theme-1.2.1 sphinxcontrib-jquery-4.1\n",
      "Note: you may need to restart the kernel to use updated packages.\n"
     ]
    },
    {
     "name": "stderr",
     "output_type": "stream",
     "text": [
      "ERROR: pip's dependency resolver does not currently take into account all the packages that are installed. This behaviour is the source of the following dependency conflicts.\n",
      "tensorboard 2.10.1 requires google-auth<3,>=1.6.3, which is not installed.\n",
      "tensorflow 2.10.0 requires protobuf<3.20,>=3.9.2, but you have protobuf 4.23.2 which is incompatible.\n",
      "tensorboard 2.10.1 requires protobuf<3.20,>=3.9.2, but you have protobuf 4.23.2 which is incompatible.\n"
     ]
    }
   ],
   "source": [
    "pip install mercator"
   ]
  },
  {
   "cell_type": "code",
   "execution_count": 1,
   "id": "9c2a9f62",
   "metadata": {},
   "outputs": [
    {
     "name": "stdout",
     "output_type": "stream",
     "text": [
      "Collecting pandas-datareader\n",
      "  Downloading pandas_datareader-0.10.0-py3-none-any.whl (109 kB)\n",
      "     ---------------------------------------- 0.0/109.5 kB ? eta -:--:--\n",
      "     --- ------------------------------------ 10.2/109.5 kB ? eta -:--:--\n",
      "     ---------- ---------------------------- 30.7/109.5 kB 1.4 MB/s eta 0:00:01\n",
      "     ------------- ----------------------- 41.0/109.5 kB 326.8 kB/s eta 0:00:01\n",
      "     ------------- ----------------------- 41.0/109.5 kB 326.8 kB/s eta 0:00:01\n",
      "     ------------------------------- ----- 92.2/109.5 kB 525.1 kB/s eta 0:00:01\n",
      "     ------------------------------------ 109.5/109.5 kB 424.0 kB/s eta 0:00:00\n",
      "Requirement already satisfied: requests>=2.19.0 in c:\\users\\brije\\anaconda3\\lib\\site-packages (from pandas-datareader) (2.28.1)\n",
      "Requirement already satisfied: lxml in c:\\users\\brije\\anaconda3\\lib\\site-packages (from pandas-datareader) (4.9.1)\n",
      "Requirement already satisfied: pandas>=0.23 in c:\\users\\brije\\anaconda3\\lib\\site-packages (from pandas-datareader) (1.4.2)\n",
      "Requirement already satisfied: python-dateutil>=2.8.1 in c:\\users\\brije\\anaconda3\\lib\\site-packages (from pandas>=0.23->pandas-datareader) (2.8.2)\n",
      "Requirement already satisfied: pytz>=2020.1 in c:\\users\\brije\\anaconda3\\lib\\site-packages (from pandas>=0.23->pandas-datareader) (2022.7)\n",
      "Requirement already satisfied: numpy>=1.18.5 in c:\\users\\brije\\anaconda3\\lib\\site-packages (from pandas>=0.23->pandas-datareader) (1.21.5)\n",
      "Requirement already satisfied: urllib3<1.27,>=1.21.1 in c:\\users\\brije\\anaconda3\\lib\\site-packages (from requests>=2.19.0->pandas-datareader) (1.26.14)\n",
      "Requirement already satisfied: charset-normalizer<3,>=2 in c:\\users\\brije\\anaconda3\\lib\\site-packages (from requests>=2.19.0->pandas-datareader) (2.0.4)\n",
      "Requirement already satisfied: certifi>=2017.4.17 in c:\\users\\brije\\anaconda3\\lib\\site-packages (from requests>=2.19.0->pandas-datareader) (2023.5.7)\n",
      "Requirement already satisfied: idna<4,>=2.5 in c:\\users\\brije\\anaconda3\\lib\\site-packages (from requests>=2.19.0->pandas-datareader) (3.4)\n",
      "Requirement already satisfied: six>=1.5 in c:\\users\\brije\\anaconda3\\lib\\site-packages (from python-dateutil>=2.8.1->pandas>=0.23->pandas-datareader) (1.16.0)\n",
      "Installing collected packages: pandas-datareader\n",
      "Successfully installed pandas-datareader-0.10.0\n",
      "Note: you may need to restart the kernel to use updated packages.\n"
     ]
    }
   ],
   "source": [
    "pip install pandas-datareader"
   ]
  },
  {
   "cell_type": "code",
   "execution_count": 1,
   "id": "f53f644d",
   "metadata": {},
   "outputs": [
    {
     "name": "stdout",
     "output_type": "stream",
     "text": [
      "Requirement already satisfied: pandas-datareader in c:\\users\\brije\\anaconda3\\lib\\site-packages (0.10.0)\n",
      "Requirement already satisfied: pandas>=0.23 in c:\\users\\brije\\anaconda3\\lib\\site-packages (from pandas-datareader) (1.4.2)\n",
      "Requirement already satisfied: lxml in c:\\users\\brije\\anaconda3\\lib\\site-packages (from pandas-datareader) (4.9.1)\n",
      "Requirement already satisfied: requests>=2.19.0 in c:\\users\\brije\\anaconda3\\lib\\site-packages (from pandas-datareader) (2.28.1)\n",
      "Requirement already satisfied: python-dateutil>=2.8.1 in c:\\users\\brije\\anaconda3\\lib\\site-packages (from pandas>=0.23->pandas-datareader) (2.8.2)\n",
      "Requirement already satisfied: numpy>=1.18.5 in c:\\users\\brije\\anaconda3\\lib\\site-packages (from pandas>=0.23->pandas-datareader) (1.21.5)\n",
      "Requirement already satisfied: pytz>=2020.1 in c:\\users\\brije\\anaconda3\\lib\\site-packages (from pandas>=0.23->pandas-datareader) (2022.7)\n",
      "Requirement already satisfied: idna<4,>=2.5 in c:\\users\\brije\\anaconda3\\lib\\site-packages (from requests>=2.19.0->pandas-datareader) (3.4)\n",
      "Requirement already satisfied: charset-normalizer<3,>=2 in c:\\users\\brije\\anaconda3\\lib\\site-packages (from requests>=2.19.0->pandas-datareader) (2.0.4)\n",
      "Requirement already satisfied: certifi>=2017.4.17 in c:\\users\\brije\\anaconda3\\lib\\site-packages (from requests>=2.19.0->pandas-datareader) (2023.5.7)\n",
      "Requirement already satisfied: urllib3<1.27,>=1.21.1 in c:\\users\\brije\\anaconda3\\lib\\site-packages (from requests>=2.19.0->pandas-datareader) (1.26.14)\n",
      "Requirement already satisfied: six>=1.5 in c:\\users\\brije\\anaconda3\\lib\\site-packages (from python-dateutil>=2.8.1->pandas>=0.23->pandas-datareader) (1.16.0)\n",
      "Note: you may need to restart the kernel to use updated packages.\n"
     ]
    }
   ],
   "source": [
    "pip install pandas-datareader"
   ]
  },
  {
   "cell_type": "code",
   "execution_count": 1,
   "id": "bacbbfa6",
   "metadata": {},
   "outputs": [
    {
     "name": "stdout",
     "output_type": "stream",
     "text": [
      "Requirement already satisfied: scikit-learn in c:\\users\\brije\\anaconda3\\lib\\site-packages (1.2.1)\n",
      "Requirement already satisfied: scipy>=1.3.2 in c:\\users\\brije\\anaconda3\\lib\\site-packages (from scikit-learn) (1.10.0)\n",
      "Requirement already satisfied: numpy>=1.17.3 in c:\\users\\brije\\anaconda3\\lib\\site-packages (from scikit-learn) (1.21.5)\n",
      "Requirement already satisfied: threadpoolctl>=2.0.0 in c:\\users\\brije\\anaconda3\\lib\\site-packages (from scikit-learn) (2.2.0)\n",
      "Requirement already satisfied: joblib>=1.1.1 in c:\\users\\brije\\anaconda3\\lib\\site-packages (from scikit-learn) (1.1.1)\n",
      "Note: you may need to restart the kernel to use updated packages.\n"
     ]
    }
   ],
   "source": [
    "pip install scikit-learn"
   ]
  },
  {
   "cell_type": "code",
   "execution_count": 1,
   "id": "73b7dba0",
   "metadata": {},
   "outputs": [
    {
     "name": "stdout",
     "output_type": "stream",
     "text": [
      "Collecting scikit-learn==1.1.3Note: you may need to restart the kernel to use updated packages.\n",
      "\n",
      "  Using cached scikit_learn-1.1.3-cp39-cp39-win_amd64.whl (7.6 MB)\n",
      "Requirement already satisfied: joblib>=1.0.0 in c:\\users\\brije\\anaconda3\\lib\\site-packages (from scikit-learn==1.1.3) (1.1.1)\n",
      "Requirement already satisfied: numpy>=1.17.3 in c:\\users\\brije\\anaconda3\\lib\\site-packages (from scikit-learn==1.1.3) (1.21.5)\n",
      "Requirement already satisfied: scipy>=1.3.2 in c:\\users\\brije\\anaconda3\\lib\\site-packages (from scikit-learn==1.1.3) (1.10.0)\n",
      "Requirement already satisfied: threadpoolctl>=2.0.0 in c:\\users\\brije\\anaconda3\\lib\\site-packages (from scikit-learn==1.1.3) (2.2.0)\n",
      "Installing collected packages: scikit-learn\n",
      "  Attempting uninstall: scikit-learn\n",
      "    Found existing installation: scikit-learn 1.2.1\n",
      "    Uninstalling scikit-learn-1.2.1:\n",
      "      Successfully uninstalled scikit-learn-1.2.1\n"
     ]
    },
    {
     "name": "stderr",
     "output_type": "stream",
     "text": [
      "ERROR: Could not install packages due to an OSError: [WinError 5] Access is denied: 'C:\\\\Users\\\\brije\\\\anaconda3\\\\Lib\\\\site-packages\\\\sklearn\\\\~_check_build\\\\_check_build.cp39-win_amd64.pyd'\n",
      "Consider using the `--user` option or check the permissions.\n",
      "\n"
     ]
    }
   ],
   "source": [
    "pip install scikit-learn==1.1.3"
   ]
  },
  {
   "cell_type": "code",
   "execution_count": null,
   "id": "c975ba31",
   "metadata": {},
   "outputs": [],
   "source": []
  }
 ],
 "metadata": {
  "kernelspec": {
   "display_name": "Python 3 (ipykernel)",
   "language": "python",
   "name": "python3"
  },
  "language_info": {
   "codemirror_mode": {
    "name": "ipython",
    "version": 3
   },
   "file_extension": ".py",
   "mimetype": "text/x-python",
   "name": "python",
   "nbconvert_exporter": "python",
   "pygments_lexer": "ipython3",
   "version": "3.9.12"
  }
 },
 "nbformat": 4,
 "nbformat_minor": 5
}
