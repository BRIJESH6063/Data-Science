{
 "cells": [
  {
   "cell_type": "code",
   "execution_count": 1,
   "id": "2ac69239",
   "metadata": {},
   "outputs": [
    {
     "data": {
      "text/plain": [
       "18"
      ]
     },
     "execution_count": 1,
     "metadata": {},
     "output_type": "execute_result"
    }
   ],
   "source": [
    "6*3"
   ]
  },
  {
   "cell_type": "code",
   "execution_count": 3,
   "id": "59d4a6ce",
   "metadata": {},
   "outputs": [
    {
     "data": {
      "image/png": "[encoded data removed]",
      "text/plain": [
       "<Figure size 432x288 with 1 Axes>"
      ]
     },
     "metadata": {
      "needs_background": "light"
     },
     "output_type": "display_data"
    },
    {
     "data": {
      "image/png": "[encoded data removed]",
      "text/plain": [
       "<Figure size 432x288 with 1 Axes>"
      ]
     },
     "metadata": {
      "needs_background": "light"
     },
     "output_type": "display_data"
    }
   ],
   "source": [
    "from matplotlib import pyplot as plt\n",
    "import numpy as np\n",
    "a = np.array([20,87,4,86,53,74,56,51,11,20,40,15,79,25,57])\n",
    "plt.hist(a, bins = [0,20,40,60,80,100])\n",
    "plt.title('histogram')\n",
    "plt.show()\n",
    "\n",
    "plt.hist(a, bins = [0,10,20,30,40,50,60,70,80,90,100])\n",
    "plt.title('histogram1')\n",
    "plt.show()"
   ]
  },
  {
   "cell_type": "code",
   "execution_count": 4,
   "id": "6f9efbc0",
   "metadata": {},
   "outputs": [
    {
     "name": "stdout",
     "output_type": "stream",
     "text": [
      "[1.         1.22222222 1.44444444 1.66666667 1.88888889 2.11111111\n",
      " 2.33333333 2.55555556 2.77777778 3.        ]\n",
      "[[0.         1.         1.41421356]\n",
      " [1.73205081 2.         2.23606798]]\n",
      "1.707825127659933\n",
      "[[      -inf 0.         0.30103   ]\n",
      " [0.47712125 0.60205999 0.69897   ]]\n"
     ]
    },
    {
     "name": "stderr",
     "output_type": "stream",
     "text": [
      "C:\\Users\\brije\\AppData\\Local\\Temp\\ipykernel_14280\\1535167924.py:9: RuntimeWarning: divide by zero encountered in log10\n",
      "  print(np.log10(a))\n"
     ]
    }
   ],
   "source": [
    "# other useful function in numpy \n",
    "# linspace function \n",
    "a = np.linspace(1,3,10)\n",
    "print(a)\n",
    "\n",
    "a = np.arange(6).reshape(2,3)\n",
    "print(np.sqrt(a))\n",
    "print(np.std(a))\n",
    "print(np.log10(a))"
   ]
  },
  {
   "cell_type": "code",
   "execution_count": 5,
   "id": "153dcec0",
   "metadata": {},
   "outputs": [
    {
     "name": "stdout",
     "output_type": "stream",
     "text": [
      "[0.  0.1 0.2 0.3 0.4 0.5 0.6 0.7 0.8 0.9 1.  1.1 1.2 1.3 1.4 1.5 1.6 1.7\n",
      " 1.8 1.9 2.  2.1 2.2 2.3 2.4 2.5 2.6 2.7 2.8 2.9 3.  3.1 3.2 3.3 3.4 3.5\n",
      " 3.6 3.7 3.8 3.9 4.  4.1 4.2 4.3 4.4 4.5 4.6 4.7 4.8 4.9 5.  5.1 5.2 5.3\n",
      " 5.4 5.5 5.6 5.7 5.8 5.9 6.  6.1 6.2 6.3 6.4 6.5 6.6 6.7 6.8 6.9 7.  7.1\n",
      " 7.2 7.3 7.4 7.5 7.6 7.7 7.8 7.9 8.  8.1 8.2 8.3 8.4 8.5 8.6 8.7 8.8 8.9\n",
      " 9.  9.1 9.2 9.3 9.4]\n",
      "[ 0.          0.09983342  0.19866933  0.29552021  0.38941834  0.47942554\n",
      "  0.56464247  0.64421769  0.71735609  0.78332691  0.84147098  0.89120736\n",
      "  0.93203909  0.96355819  0.98544973  0.99749499  0.9995736   0.99166481\n",
      "  0.97384763  0.94630009  0.90929743  0.86320937  0.8084964   0.74570521\n",
      "  0.67546318  0.59847214  0.51550137  0.42737988  0.33498815  0.23924933\n",
      "  0.14112001  0.04158066 -0.05837414 -0.15774569 -0.2555411  -0.35078323\n",
      " -0.44252044 -0.52983614 -0.61185789 -0.68776616 -0.7568025  -0.81827711\n",
      " -0.87157577 -0.91616594 -0.95160207 -0.97753012 -0.993691   -0.99992326\n",
      " -0.99616461 -0.98245261 -0.95892427 -0.92581468 -0.88345466 -0.83226744\n",
      " -0.77276449 -0.70554033 -0.63126664 -0.55068554 -0.46460218 -0.37387666\n",
      " -0.2794155  -0.1821625  -0.0830894   0.0168139   0.1165492   0.21511999\n",
      "  0.31154136  0.40484992  0.49411335  0.57843976  0.6569866   0.72896904\n",
      "  0.79366786  0.85043662  0.8987081   0.93799998  0.96791967  0.98816823\n",
      "  0.99854335  0.99894134  0.98935825  0.96988981  0.94073056  0.90217183\n",
      "  0.85459891  0.79848711  0.7343971   0.66296923  0.58491719  0.50102086\n",
      "  0.41211849  0.31909836  0.22288991  0.12445442  0.02477543]\n"
     ]
    },
    {
     "data": {
      "image/png": "[encoded data removed]",
      "text/plain": [
       "<Figure size 432x288 with 1 Axes>"
      ]
     },
     "metadata": {
      "needs_background": "light"
     },
     "output_type": "display_data"
    },
    {
     "name": "stdout",
     "output_type": "stream",
     "text": [
      "[[0 0 0 0 0 0]\n",
      " [1 0 1 0 1 0]\n",
      " [0 0 0 0 0 0]\n",
      " [1 0 1 0 1 0]\n",
      " [0 0 0 0 0 0]\n",
      " [1 0 1 0 1 0]]\n"
     ]
    }
   ],
   "source": [
    "from matplotlib import pyplot as plt\n",
    "import numpy as np\n",
    "\n",
    "x = np.arange(0, 3*np.pi, 0.1)\n",
    "print(x)\n",
    "y = np.sin(x)\n",
    "print(y)\n",
    "plt.plot(x,y)\n",
    "plt.show()\n",
    "\n",
    "z = np.zeros((6,6), dtype = int)\n",
    "z[1::2, ::2] = 1\n",
    "print(z)"
   ]
  },
  {
   "cell_type": "code",
   "execution_count": 6,
   "id": "8548296c",
   "metadata": {},
   "outputs": [],
   "source": [
    "# Pandas \n",
    "# Series    ,   Basic operations on series\n",
    "# Dataframe ,   Basic operations on dataframe \n",
    "# file related  operations on dataframe \n",
    "# visualisation practise example\n",
    "\n",
    "# Series - is a one dimensional array with labels. it contains any python datatype. \n",
    "# Dataframe is a two dimensional data structures with labels. we can use labels to locate data\n"
   ]
  },
  {
   "cell_type": "code",
   "execution_count": 7,
   "id": "0377229d",
   "metadata": {},
   "outputs": [
    {
     "name": "stdout",
     "output_type": "stream",
     "text": [
      "1.4.2\n",
      "0    0\n",
      "1    1\n",
      "2    2\n",
      "3    3\n",
      "dtype: int64\n",
      "1    0\n",
      "2    1\n",
      "3    2\n",
      "4    3\n",
      "5    4\n",
      "dtype: int64\n",
      "Array of 5 random numbers created :  [-0.19069517  0.10641738  1.58972128 -0.53663429 -0.14513482]\n",
      "a   -0.190695\n",
      "b    0.106417\n",
      "c    1.589721\n",
      "d   -0.536634\n",
      "e   -0.145135\n",
      "dtype: float64\n",
      "a    1\n",
      "b    2\n",
      "c    3\n",
      "d    4\n",
      "e    5\n",
      "dtype: int64\n",
      "A    1\n",
      "B    2\n",
      "C    3\n",
      "D    4\n",
      "E    5\n",
      "dtype: int64\n"
     ]
    }
   ],
   "source": [
    "import pandas as pd\n",
    "import numpy as np\n",
    "# check pandas version \n",
    "print(pd.__version__)\n",
    "\n",
    "# Series create manipulate querry delete\n",
    "s1 = pd.Series(range(4))\n",
    "print(s1)\n",
    "order = range(1, 6)\n",
    "s2 = pd.Series(range(5), index = order)\n",
    "print(s2)\n",
    "n = np.random.randn(5)\n",
    "print('Array of 5 random numbers created : ', n)\n",
    "index = ['a', 'b', 'c', 'd', 'e']\n",
    "s2 = pd.Series(n, index = index)\n",
    "print(s2)\n",
    "\n",
    "# create series from dictionary.. \n",
    "d = {'a':1, 'b':2, 'c':3, 'd':4, 'e':5}\n",
    "s3 = pd.Series(d)\n",
    "print(s3)\n",
    "\n",
    "s3.index = ['A', 'B', 'C', 'D', 'E']\n",
    "print(s3)"
   ]
  },
  {
   "cell_type": "code",
   "execution_count": 9,
   "id": "d121ba69",
   "metadata": {},
   "outputs": [
    {
     "name": "stdout",
     "output_type": "stream",
     "text": [
      "A    1.000000\n",
      "B    2.000000\n",
      "C    3.000000\n",
      "D    4.000000\n",
      "E    5.000000\n",
      "a   -0.190695\n",
      "b    0.106417\n",
      "c    1.589721\n",
      "d   -0.536634\n",
      "e   -0.145135\n",
      "dtype: float64\n",
      "A    1.000000\n",
      "B    2.000000\n",
      "C    3.000000\n",
      "D    4.000000\n",
      "E    5.000000\n",
      "a   -0.190695\n",
      "b    0.106417\n",
      "c    1.589721\n",
      "d   -0.536634\n",
      "dtype: float64\n",
      "0    0\n",
      "1    1\n",
      "2    2\n",
      "3    3\n",
      "4    4\n",
      "5    5\n",
      "6    6\n",
      "7    7\n",
      "dtype: int64\n",
      "0     8\n",
      "1     9\n",
      "2    10\n",
      "3    11\n",
      "4    12\n",
      "5    13\n",
      "dtype: int64\n",
      "0     8.0\n",
      "1    10.0\n",
      "2    12.0\n",
      "3    14.0\n",
      "4    16.0\n",
      "5    18.0\n",
      "6     NaN\n",
      "7     NaN\n",
      "dtype: float64\n",
      "Median :  10.5\n",
      "Max    :  13\n",
      "Min    :  8\n"
     ]
    },
    {
     "name": "stderr",
     "output_type": "stream",
     "text": [
      "C:\\Users\\brije\\AppData\\Local\\Temp\\ipykernel_14280\\2626781116.py:2: FutureWarning: The series.append method is deprecated and will be removed from pandas in a future version. Use pandas.concat instead.\n",
      "  s4 = s3.append(s2)\n"
     ]
    }
   ],
   "source": [
    "# Slicing \n",
    "s4 = s3.append(s2)\n",
    "print(s4)\n",
    "print(s4.drop('e'))\n",
    "arr1 = range(8)\n",
    "arr2 = range(8,14)\n",
    "s5 = pd.Series(arr1)\n",
    "s6 = pd.Series(arr2)\n",
    "print(s5)\n",
    "print(s6)\n",
    "print(s5.add(s6)) # add the values of series labelwise and displays Nan if could not add \n",
    "\n",
    "print('Median : ',s6.median())\n",
    "print('Max    : ',s6.max())\n",
    "print('Min    : ',s6.min())"
   ]
  },
  {
   "cell_type": "markdown",
   "id": "933670de",
   "metadata": {},
   "source": [
    "# Dataframe creation ..\n",
    "import pandas as pd\n",
    "import numpy as np\n",
    "dates = pd.date_range('today', periods = 6) # define time sequence as index\n",
    "num_arr = np.random.randn(6, 4)\n",
    "columns = ['A', 'B', 'C', 'D']\n",
    "print(dates)\n",
    "print(num_arr)\n",
    "print(\"--------------------------------------------------------------------------------------------------------\")\n",
    "df1 = pd.DataFrame(num_arr, index = dates, columns = columns)\n",
    "print(df1)\n",
    "\n",
    "data = {'animal'   : ['cat', 'cat', 'snake', 'dog', 'dog', 'cat', 'snake', 'cat', 'dog', 'dog'],\n",
    "        'age'      : [2.5, 3, 0.5, np.nan, 5, 2, 4.5, np.nan, 7, 3],\n",
    "        'visits'   : [1, 3, 2, 3, 2, 3, 1, 1, 2, 1],\n",
    "        'priority' : ['yes', 'yes', 'no', 'yes', 'no', 'no', 'no', 'yes', 'no', 'no']\n",
    "       }\n",
    "labels =   ['a', 'b', 'c', 'd', 'e', 'f', 'g', 'h', 'i', 'j']\n",
    "print(\"--------------------------------------------------------------------------------------------------------\")\n",
    "\n",
    "df2 = pd.DataFrame(data, index = labels)\n",
    "print(df2)\n",
    "print(\"--------------------------------------------------------------------------------------------------------\")\n",
    "print(df2.values)\n",
    "print(\"--------------------------------------------------------------------------------------------------------\")\n",
    "print(df2.describe())\n",
    "print(\"--------------------------------------------------------------------------------------------------------\")\n",
    "print(df2.head(3))\n",
    "print(df2.tail(3))"
   ]
  },
  {
   "cell_type": "code",
   "execution_count": null,
   "id": "d0926184",
   "metadata": {},
   "outputs": [],
   "source": [
    "Dataframe "
   ]
  }
 ],
 "metadata": {
  "kernelspec": {
   "display_name": "Python 3 (ipykernel)",
   "language": "python",
   "name": "python3"
  },
  "language_info": {
   "codemirror_mode": {
    "name": "ipython",
    "version": 3
   },
   "file_extension": ".py",
   "mimetype": "text/x-python",
   "name": "python",
   "nbconvert_exporter": "python",
   "pygments_lexer": "ipython3",
   "version": "3.9.12"
  }
 },
 "nbformat": 4,
 "nbformat_minor": 5
}
