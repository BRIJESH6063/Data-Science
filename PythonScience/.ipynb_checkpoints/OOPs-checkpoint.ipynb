{
 "cells": [
  {
   "cell_type": "code",
   "execution_count": 1,
   "id": "1e2f8e9f",
   "metadata": {},
   "outputs": [],
   "source": [
    "# __fun__(self) member functions beginning and ending with double underscore signifies inbuilt or pre defined functions\n"
   ]
  },
  {
   "cell_type": "code",
   "execution_count": 4,
   "id": "0f77bb70",
   "metadata": {},
   "outputs": [],
   "source": [
    "from math import pi\n",
    "\n",
    "class circle :\n",
    "    '''A circle instance models with a radius..'''\n",
    "    \n",
    "    def __init__(self, radius=1.0):\n",
    "        '''Initializer with default radius of 1.0. initializer not a constructor..'''\n",
    "        self.radius = radius # creates an instance variable radius\n",
    "    \n",
    "    def __str__(self) :\n",
    "        '''returns a descriptive string for this instance invoked by print() and str()'''\n",
    "        return \"This is a circle with radius of {:.2f}\".format(self.radius)\n",
    "    def __repr__(self) :\n",
    "        '''Return a formal string that can be used to re-create this instance, invoked by repr()'''\n",
    "        return \"Circle(radius={})\".format(self.radius)\n",
    "    def get_area(self) :\n",
    "        return self.radius* self.radius *pi\n",
    "    "
   ]
  },
  {
   "cell_type": "code",
   "execution_count": 7,
   "id": "929ce4b2",
   "metadata": {},
   "outputs": [
    {
     "name": "stdout",
     "output_type": "stream",
     "text": [
      "This is a circle with radius of 2.10\n",
      "13.854423602330987\n",
      "2.1\n",
      "This is a circle with radius of 2.10\n",
      "Circle(radius=2.1)\n"
     ]
    },
    {
     "data": {
      "text/plain": [
       "2996394369760"
      ]
     },
     "execution_count": 7,
     "metadata": {},
     "output_type": "execute_result"
    }
   ],
   "source": [
    "c1 = circle(2.1)\n",
    "\n",
    "print(c1)\n",
    "print(c1.get_area())\n",
    "print(c1.radius)\n",
    "\n",
    "print(str(c1))\n",
    "print(repr(c1))\n",
    "id(c1)"
   ]
  },
  {
   "cell_type": "code",
   "execution_count": 8,
   "id": "264a49ff",
   "metadata": {},
   "outputs": [
    {
     "data": {
      "text/plain": [
       "2996394716272"
      ]
     },
     "execution_count": 8,
     "metadata": {},
     "output_type": "execute_result"
    }
   ],
   "source": [
    "# instance variables are declared within the __init__() method \n",
    "c2 = circle(12)\n",
    "id(c2)"
   ]
  },
  {
   "cell_type": "code",
   "execution_count": 9,
   "id": "d0e29955",
   "metadata": {},
   "outputs": [
    {
     "data": {
      "text/plain": [
       "False"
      ]
     },
     "execution_count": 9,
     "metadata": {},
     "output_type": "execute_result"
    }
   ],
   "source": [
    "a = circle(3)\n",
    "b = circle(45)\n",
    "a == b"
   ]
  },
  {
   "cell_type": "code",
   "execution_count": 18,
   "id": "46081926",
   "metadata": {},
   "outputs": [],
   "source": [
    "class MyClass :\n",
    "    @classmethod\n",
    "    def hello(self, name) :\n",
    "        print(self)\n",
    "        print('Hello from ', self.__name__, ',', name)\n",
    "        "
   ]
  },
  {
   "cell_type": "code",
   "execution_count": 19,
   "id": "a8be32b2",
   "metadata": {},
   "outputs": [
    {
     "name": "stdout",
     "output_type": "stream",
     "text": [
      "<class '__main__.MyClass'>\n",
      "Hello from  MyClass , Rakesh\n"
     ]
    }
   ],
   "source": [
    "MyClass.hello('Rakesh')\n",
    "# @classmethod is useed to call methods of class without creating instances or objects "
   ]
  },
  {
   "cell_type": "code",
   "execution_count": 21,
   "id": "5128efcf",
   "metadata": {},
   "outputs": [],
   "source": [
    "# INSTANCE METJHOD\n",
    "class MyClass():\n",
    "    def hello(self) :\n",
    "        print('hello from ', self.__class__.__name__)"
   ]
  },
  {
   "cell_type": "code",
   "execution_count": 22,
   "id": "bc0b3584",
   "metadata": {},
   "outputs": [
    {
     "name": "stdout",
     "output_type": "stream",
     "text": [
      "hello from  MyClass\n"
     ]
    }
   ],
   "source": [
    "myinstance1 = MyClass()\n",
    "myinstance1.hello()"
   ]
  },
  {
   "cell_type": "code",
   "execution_count": 23,
   "id": "beb458a1",
   "metadata": {},
   "outputs": [
    {
     "name": "stdout",
     "output_type": "stream",
     "text": [
      "Hello World!\n"
     ]
    }
   ],
   "source": [
    "# Static method is declared with @staticmethod decorator \n",
    "# static functions can only be called by static member function or static instances \n",
    "# can be invoked via class object or instance object \n",
    "# does not depend on state of object \n",
    "\n",
    "class MyClass :\n",
    "    @staticmethod\n",
    "    def hello() :\n",
    "        print(\"Hello World!\")\n",
    "\n",
    "\n",
    "myinstance1 = MyClass()\n",
    "myinstance1.hello()"
   ]
  },
  {
   "cell_type": "markdown",
   "id": "23d5c5e6",
   "metadata": {},
   "source": [
    "# Inheritance"
   ]
  },
  {
   "cell_type": "code",
   "execution_count": 29,
   "id": "970ae49b",
   "metadata": {},
   "outputs": [],
   "source": [
    "class Cylinder(circle) :\n",
    "    def __init__(self, radius = 1.0, height = 1.0) :\n",
    "        '''Initialiser'''\n",
    "        super().__init__(radius) \n",
    "        self.height = height\n",
    "        \n",
    "    '''def __str__(self) :\n",
    "        # if __str__ is missing in subclass print() will invoke subclass version \n",
    "        return 'Cylinder(radius = {}, height={})'.format(self.radius, self.height) '''\n",
    "    \n",
    "    def get_volume(self) :\n",
    "        return self.get_area() * selh.height\n",
    "    "
   ]
  },
  {
   "cell_type": "code",
   "execution_count": 30,
   "id": "57b3f51d",
   "metadata": {},
   "outputs": [],
   "source": [
    "cy1 = Cylinder(2.1, 1.1)"
   ]
  },
  {
   "cell_type": "code",
   "execution_count": 32,
   "id": "d8cee724",
   "metadata": {},
   "outputs": [
    {
     "name": "stdout",
     "output_type": "stream",
     "text": [
      "This is a circle with radius of 2.10\n"
     ]
    }
   ],
   "source": [
    "print(cy1) # subclass __str__ is missing hence super().__str__() is called"
   ]
  },
  {
   "cell_type": "code",
   "execution_count": 44,
   "id": "e2e432cb",
   "metadata": {},
   "outputs": [],
   "source": [
    "class Cylinder(circle) :\n",
    "    def __init__(self, radius = 1.0, height = 1.0) :\n",
    "        '''Initialiser'''\n",
    "        super().__init__(radius) \n",
    "        self.height = height\n",
    "        \n",
    "    def __str__(self) :\n",
    "        # if __str__ is missing in subclass print() will invoke subclass version \n",
    "        return 'Cylinder(radius = {}, height={})'.format(self.radius, self.height)\n",
    "    \n",
    "    def get_volume(self) :\n",
    "        return self.get_area() * self.height\n",
    "    "
   ]
  },
  {
   "cell_type": "code",
   "execution_count": 45,
   "id": "139f108a",
   "metadata": {},
   "outputs": [],
   "source": [
    "cy1 = Cylinder(2.1, 1.1)"
   ]
  },
  {
   "cell_type": "code",
   "execution_count": 46,
   "id": "7609212e",
   "metadata": {},
   "outputs": [
    {
     "name": "stdout",
     "output_type": "stream",
     "text": [
      "Cylinder(radius = 2.1, height=1.1)\n"
     ]
    }
   ],
   "source": [
    "print(cy1)"
   ]
  },
  {
   "cell_type": "code",
   "execution_count": 47,
   "id": "437bf615",
   "metadata": {},
   "outputs": [
    {
     "name": "stdout",
     "output_type": "stream",
     "text": [
      "13.854423602330987\n"
     ]
    }
   ],
   "source": [
    "print(cy1.get_area())"
   ]
  },
  {
   "cell_type": "code",
   "execution_count": 48,
   "id": "ea13cb51",
   "metadata": {},
   "outputs": [
    {
     "name": "stdout",
     "output_type": "stream",
     "text": [
      "15.239865962564087\n"
     ]
    }
   ],
   "source": [
    "print(cy1.get_volume())"
   ]
  },
  {
   "cell_type": "code",
   "execution_count": null,
   "id": "3481caf8",
   "metadata": {},
   "outputs": [],
   "source": [
    "# Types Of Inheritence in Python\n",
    "Single Inhritance\n",
    "Multiple Inhritance\n",
    "Multilevel Inhritance\n",
    "Hierarchial Inhritance\n",
    "Hybrid Inhritance"
   ]
  },
  {
   "cell_type": "markdown",
   "id": "3ad84e97",
   "metadata": {},
   "source": [
    "# Single Inheritance "
   ]
  },
  {
   "cell_type": "code",
   "execution_count": 52,
   "id": "4748a652",
   "metadata": {},
   "outputs": [],
   "source": [
    "# one base class and one inheritance class\n",
    "\n",
    "class Country :\n",
    "    def show_country(self) :\n",
    "        print('This is India')\n",
    "    \n",
    "class state(Country) :\n",
    "    def show_state(self) :\n",
    "        print('This is Uttar Pradesh')"
   ]
  },
  {
   "cell_type": "code",
   "execution_count": 53,
   "id": "b1d9409d",
   "metadata": {},
   "outputs": [
    {
     "name": "stdout",
     "output_type": "stream",
     "text": [
      "This is India\n",
      "This is Uttar Pradesh\n"
     ]
    }
   ],
   "source": [
    "st = state()\n",
    "\n",
    "st.show_country()\n",
    "st.show_state()"
   ]
  },
  {
   "cell_type": "code",
   "execution_count": 54,
   "id": "c2a0e2b2",
   "metadata": {},
   "outputs": [],
   "source": [
    "# multiple + multilevel inheritance is called Hybrid Inheritance"
   ]
  },
  {
   "cell_type": "code",
   "execution_count": null,
   "id": "b9d7d77f",
   "metadata": {},
   "outputs": [],
   "source": [
    "# Polymorphism through method overloading \n",
    "sum(a, ,b)\n",
    "sum(a, b, c, d) # default argumentation "
   ]
  },
  {
   "cell_type": "code",
   "execution_count": null,
   "id": "2d0cba05",
   "metadata": {},
   "outputs": [],
   "source": [
    "# Polymorphism through inheritance --- method overriding\n",
    "method overriding provides ability to change the implementation of method in a child class which is already defined in \n",
    "one of its super class\n",
    "\n",
    "# Operator Overloading "
   ]
  },
  {
   "cell_type": "code",
   "execution_count": null,
   "id": "5b64ce9f",
   "metadata": {},
   "outputs": [],
   "source": []
  }
 ],
 "metadata": {
  "kernelspec": {
   "display_name": "Python 3 (ipykernel)",
   "language": "python",
   "name": "python3"
  },
  "language_info": {
   "codemirror_mode": {
    "name": "ipython",
    "version": 3
   },
   "file_extension": ".py",
   "mimetype": "text/x-python",
   "name": "python",
   "nbconvert_exporter": "python",
   "pygments_lexer": "ipython3",
   "version": "3.9.12"
  }
 },
 "nbformat": 4,
 "nbformat_minor": 5
}
