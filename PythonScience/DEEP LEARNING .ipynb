{
 "cells": [
  {
   "cell_type": "code",
   "execution_count": 1,
   "id": "a4064875",
   "metadata": {},
   "outputs": [
    {
     "name": "stdout",
     "output_type": "stream",
     "text": [
      "Hello World!\n"
     ]
    }
   ],
   "source": [
    "print(\"Hello World!\")"
   ]
  },
  {
   "cell_type": "code",
   "execution_count": 2,
   "id": "bbc476fe",
   "metadata": {},
   "outputs": [
    {
     "name": "stdout",
     "output_type": "stream",
     "text": [
      "6.900000000000006\n"
     ]
    }
   ],
   "source": [
    "print(0.23 + 0.23 + 0.23 + 0.23 + 0.23 + 0.23\n",
    "       + 0.23 + 0.23 + 0.23 + 0.23 + 0.23 + 0.23\n",
    "       + 0.23 + 0.23 + 0.23 + 0.23 + 0.23 + 0.23\n",
    "       + 0.23 + 0.23 + 0.23 + 0.23 + 0.23 + 0.23\n",
    "       + 0.23 + 0.23 + 0.23 + 0.23+ 0.23 + 0.23)"
   ]
  },
  {
   "cell_type": "code",
   "execution_count": 4,
   "id": "d8f517d0",
   "metadata": {},
   "outputs": [
    {
     "name": "stdout",
     "output_type": "stream",
     "text": [
      "6.9\n"
     ]
    }
   ],
   "source": [
    "print(0.23*30)"
   ]
  },
  {
   "cell_type": "code",
   "execution_count": 6,
   "id": "e99ef74e",
   "metadata": {},
   "outputs": [],
   "source": [
    "str1 = '''Another point that you need to keep in mind is float are an approximation to the number they represent. \n",
    "          As float can represent very large range of numbers python must use approximation to represent these numbers. \n",
    "          For example this floating point number 0.23 is in reality slightly more than 0.23. such that \n",
    "          if we add up 0.23 to itself a few times and check its equality to the expected resultant it will be different. \n",
    "          Although the difference is very small but it exists never the less and you should know about it.'''"
   ]
  },
  {
   "cell_type": "code",
   "execution_count": 7,
   "id": "b49cf32f",
   "metadata": {},
   "outputs": [
    {
     "name": "stdout",
     "output_type": "stream",
     "text": [
      "False\n"
     ]
    }
   ],
   "source": [
    "print(0.23 + 0.23 + 0.23 + 0.23 + 0.23 + 0.23\n",
    "       + 0.23 + 0.23 + 0.23 + 0.23 + 0.23 + 0.23\n",
    "       + 0.23 + 0.23 + 0.23 + 0.23 + 0.23 + 0.23\n",
    "       + 0.23 + 0.23 + 0.23 + 0.23 + 0.23 + 0.23\n",
    "       + 0.23 + 0.23 + 0.23 + 0.23+ 0.23 + 0.23 == 6.9)"
   ]
  },
  {
   "cell_type": "code",
   "execution_count": 8,
   "id": "181c3be4",
   "metadata": {},
   "outputs": [
    {
     "name": "stdout",
     "output_type": "stream",
     "text": [
      "20 1\n"
     ]
    }
   ],
   "source": [
    "print(\"{} 1\".format(20))"
   ]
  },
  {
   "cell_type": "code",
   "execution_count": null,
   "id": "44e7d480",
   "metadata": {},
   "outputs": [],
   "source": []
  }
 ],
 "metadata": {
  "kernelspec": {
   "display_name": "Python 3 (ipykernel)",
   "language": "python",
   "name": "python3"
  },
  "language_info": {
   "codemirror_mode": {
    "name": "ipython",
    "version": 3
   },
   "file_extension": ".py",
   "mimetype": "text/x-python",
   "name": "python",
   "nbconvert_exporter": "python",
   "pygments_lexer": "ipython3",
   "version": "3.9.12"
  }
 },
 "nbformat": 4,
 "nbformat_minor": 5
}
