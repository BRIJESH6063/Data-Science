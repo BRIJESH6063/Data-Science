{
 "cells": [
  {
   "cell_type": "code",
   "execution_count": 9,
   "id": "fa4ee581",
   "metadata": {},
   "outputs": [
    {
     "name": "stdout",
     "output_type": "stream",
     "text": [
      "Requirement already satisfied: mysql-connector-python-rf in c:\\users\\brije\\anaconda3\\lib\\site-packages (2.2.2)\n",
      "Note: you may need to restart the kernel to use updated packages.\n"
     ]
    }
   ],
   "source": [
    "pip install mysql-connector-python-rf"
   ]
  },
  {
   "cell_type": "code",
   "execution_count": 12,
   "id": "e956853b",
   "metadata": {},
   "outputs": [],
   "source": [
    "#import libraries\n",
    "\n",
    "import mysql.connector\n",
    "from mysql.connector import Error\n",
    "import pandas as pd"
   ]
  },
  {
   "cell_type": "code",
   "execution_count": 26,
   "id": "15968bca",
   "metadata": {},
   "outputs": [
    {
     "name": "stdout",
     "output_type": "stream",
     "text": [
      "Error : 'Authentication plugin 'caching_sha2_password' is not supported'\n"
     ]
    }
   ],
   "source": [
    "def create_server_connection(host_name, user_name, user_password) :\n",
    "    connection = None \n",
    "    try :\n",
    "        connection = mysql.connector.connect(\n",
    "            host = host_name,\n",
    "            user = user_name,\n",
    "            passwd = user_password\n",
    "        )\n",
    "        print(\"Mysql Database connection successful\") \n",
    "    except Error as err :\n",
    "        print(f\"Error : '{err}'\")\n",
    "    return connection\n",
    "\n",
    "#   mysql password\n",
    "pw = \"Brij@shk01\" \n",
    "#  Database Name\n",
    "db = \"mysql_python\"\n",
    "\n",
    "\n",
    "connection = create_server_connection(\"localhost\", \"root\", pw)\n"
   ]
  },
  {
   "cell_type": "code",
   "execution_count": 28,
   "id": "303f4c81",
   "metadata": {},
   "outputs": [
    {
     "ename": "AttributeError",
     "evalue": "'NoneType' object has no attribute 'cursor'",
     "output_type": "error",
     "traceback": [
      "\u001b[1;31m---------------------------------------------------------------------------\u001b[0m",
      "\u001b[1;31mAttributeError\u001b[0m                            Traceback (most recent call last)",
      "Input \u001b[1;32mIn [28]\u001b[0m, in \u001b[0;36m<cell line: 11>\u001b[1;34m()\u001b[0m\n\u001b[0;32m      8\u001b[0m         \u001b[38;5;28mprint\u001b[39m(\u001b[38;5;124mf\u001b[39m\u001b[38;5;124m\"\u001b[39m\u001b[38;5;124mError : \u001b[39m\u001b[38;5;124m'\u001b[39m\u001b[38;5;132;01m{\u001b[39;00merr\u001b[38;5;132;01m}\u001b[39;00m\u001b[38;5;124m'\u001b[39m\u001b[38;5;124m\"\u001b[39m)\n\u001b[0;32m     10\u001b[0m create_database_query \u001b[38;5;241m=\u001b[39m \u001b[38;5;124m\"\u001b[39m\u001b[38;5;124mcreate database mysql_python\u001b[39m\u001b[38;5;124m\"\u001b[39m\n\u001b[1;32m---> 11\u001b[0m \u001b[43mcreate_database\u001b[49m\u001b[43m(\u001b[49m\u001b[43mconnection\u001b[49m\u001b[43m,\u001b[49m\u001b[43m \u001b[49m\u001b[43mcreate_database_query\u001b[49m\u001b[43m)\u001b[49m\n",
      "Input \u001b[1;32mIn [28]\u001b[0m, in \u001b[0;36mcreate_database\u001b[1;34m(connection, query)\u001b[0m\n\u001b[0;32m      2\u001b[0m \u001b[38;5;28;01mdef\u001b[39;00m \u001b[38;5;21mcreate_database\u001b[39m(connection, query) :\n\u001b[1;32m----> 3\u001b[0m     cursor \u001b[38;5;241m=\u001b[39m \u001b[43mconnection\u001b[49m\u001b[38;5;241;43m.\u001b[39;49m\u001b[43mcursor\u001b[49m()\n\u001b[0;32m      4\u001b[0m     \u001b[38;5;28;01mtry\u001b[39;00m :\n\u001b[0;32m      5\u001b[0m         cursor\u001b[38;5;241m.\u001b[39mexecute(query)\n",
      "\u001b[1;31mAttributeError\u001b[0m: 'NoneType' object has no attribute 'cursor'"
     ]
    }
   ],
   "source": [
    "# create mysql_python \n",
    "def create_database(connection, query) :\n",
    "    cursor = connection.cursor()\n",
    "    try :\n",
    "        cursor.execute(query)\n",
    "        print(\"database created successfully!\")\n",
    "    except Error as err :\n",
    "        print(f\"Error : '{err}'\")\n",
    "        \n",
    "create_database_query = \"create database mysql_python\"\n",
    "create_database(connection, create_database_query)"
   ]
  },
  {
   "cell_type": "code",
   "execution_count": null,
   "id": "111a1c27",
   "metadata": {},
   "outputs": [],
   "source": []
  }
 ],
 "metadata": {
  "kernelspec": {
   "display_name": "Python 3 (ipykernel)",
   "language": "python",
   "name": "python3"
  },
  "language_info": {
   "codemirror_mode": {
    "name": "ipython",
    "version": 3
   },
   "file_extension": ".py",
   "mimetype": "text/x-python",
   "name": "python",
   "nbconvert_exporter": "python",
   "pygments_lexer": "ipython3",
   "version": "3.9.12"
  }
 },
 "nbformat": 4,
 "nbformat_minor": 5
}
