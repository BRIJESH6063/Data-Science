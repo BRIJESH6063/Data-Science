{
 "cells": [
  {
   "cell_type": "code",
   "execution_count": 1,
   "id": "4b6a3dd8",
   "metadata": {},
   "outputs": [
    {
     "data": {
      "text/plain": [
       "18"
      ]
     },
     "execution_count": 1,
     "metadata": {},
     "output_type": "execute_result"
    }
   ],
   "source": [
    "6*3"
   ]
  },
  {
   "cell_type": "code",
   "execution_count": 17,
   "id": "eab7dfad",
   "metadata": {},
   "outputs": [
    {
     "name": "stdout",
     "output_type": "stream",
     "text": [
      "DatetimeIndex(['2022-06-20 20:36:50.937989', '2022-06-21 20:36:50.937989',\n",
      "               '2022-06-22 20:36:50.937989', '2022-06-23 20:36:50.937989',\n",
      "               '2022-06-24 20:36:50.937989', '2022-06-25 20:36:50.937989'],\n",
      "              dtype='datetime64[ns]', freq='D')\n",
      "[[-1.14397678 -1.17048324  0.20533846 -0.57274976]\n",
      " [-0.04839476 -1.89901794 -1.07136549  1.18637339]\n",
      " [ 1.26462039  0.12780293 -0.86842645 -1.82643975]\n",
      " [ 0.54290393  2.85820278 -0.76891784  0.44473713]\n",
      " [-1.86550467 -1.53892926  1.00604195 -0.01006879]\n",
      " [-1.20179134  0.05421688  0.2853031   0.44517314]]\n",
      "--------------------------------------------------------------------------------------------------------\n"
     ]
    }
   ],
   "source": [
    "import pandas as pd\n",
    "import numpy as np\n",
    "dates = pd.date_range('today', periods = 6) # define time sequence as index\n",
    "num_arr = np.random.randn(6, 4)\n",
    "columns = ['A', 'B', 'C', 'D']\n",
    "print(dates)\n",
    "print(num_arr)\n",
    "print(\"--------------------------------------------------------------------------------------------------------\")\n",
    "df1 = pd.DataFrame(num_arr, index = dates, columns = columns)\n",
    "print(df1)\n",
    "\n",
    "data = {'animal'   : ['cat', 'cat', 'snake', 'dog', 'dog', 'cat', 'snake', 'cat', 'dog', 'dog'],\n",
    "        'age'      : [2.5, 3, 0.5, np.nan, 5, 2, 4.5, np.nan, 7, 3],\n",
    "        'visits'   : [1, 3, 2, 3, 2, 3, 1, 1, 2, 1],\n",
    "        'priority' : ['yes', 'yes', 'no', 'yes', 'no', 'no', 'no', 'yes', 'no', 'no']\n",
    "       }\n",
    "labels =   ['a', 'b', 'c', 'd', 'e', 'f', 'g', 'h', 'i', 'j']"
   ]
  },
  {
   "cell_type": "code",
   "execution_count": 20,
   "id": "71d82d68",
   "metadata": {},
   "outputs": [
    {
     "data": {
      "text/plain": [
       "DatetimeIndex(['2022-06-20 20:36:50.937989', '2022-06-21 20:36:50.937989',\n",
       "               '2022-06-22 20:36:50.937989', '2022-06-23 20:36:50.937989',\n",
       "               '2022-06-24 20:36:50.937989', '2022-06-25 20:36:50.937989'],\n",
       "              dtype='datetime64[ns]', freq='D')"
      ]
     },
     "execution_count": 20,
     "metadata": {},
     "output_type": "execute_result"
    }
   ],
   "source": [
    "dates"
   ]
  },
  {
   "cell_type": "code",
   "execution_count": 19,
   "id": "bd0e242f",
   "metadata": {},
   "outputs": [
    {
     "data": {
      "text/plain": [
       "array([[-1.14397678, -1.17048324,  0.20533846, -0.57274976],\n",
       "       [-0.04839476, -1.89901794, -1.07136549,  1.18637339],\n",
       "       [ 1.26462039,  0.12780293, -0.86842645, -1.82643975],\n",
       "       [ 0.54290393,  2.85820278, -0.76891784,  0.44473713],\n",
       "       [-1.86550467, -1.53892926,  1.00604195, -0.01006879],\n",
       "       [-1.20179134,  0.05421688,  0.2853031 ,  0.44517314]])"
      ]
     },
     "execution_count": 19,
     "metadata": {},
     "output_type": "execute_result"
    }
   ],
   "source": [
    "num_arr"
   ]
  },
  {
   "cell_type": "code",
   "execution_count": 18,
   "id": "9cc5b75a",
   "metadata": {},
   "outputs": [
    {
     "data": {
      "text/html": [
       "<div>\n",
       "<style scoped>\n",
       "    .dataframe tbody tr th:only-of-type {\n",
       "        vertical-align: middle;\n",
       "    }\n",
       "\n",
       "    .dataframe tbody tr th {\n",
       "        vertical-align: top;\n",
       "    }\n",
       "\n",
       "    .dataframe thead th {\n",
       "        text-align: right;\n",
       "    }\n",
       "</style>\n",
       "<table border=\"1\" class=\"dataframe\">\n",
       "  <thead>\n",
       "    <tr style=\"text-align: right;\">\n",
       "      <th></th>\n",
       "      <th>A</th>\n",
       "      <th>B</th>\n",
       "      <th>C</th>\n",
       "      <th>D</th>\n",
       "    </tr>\n",
       "  </thead>\n",
       "  <tbody>\n",
       "    <tr>\n",
       "      <th>2022-06-20 20:36:50.937989</th>\n",
       "      <td>-1.143977</td>\n",
       "      <td>-1.170483</td>\n",
       "      <td>0.205338</td>\n",
       "      <td>-0.572750</td>\n",
       "    </tr>\n",
       "    <tr>\n",
       "      <th>2022-06-21 20:36:50.937989</th>\n",
       "      <td>-0.048395</td>\n",
       "      <td>-1.899018</td>\n",
       "      <td>-1.071365</td>\n",
       "      <td>1.186373</td>\n",
       "    </tr>\n",
       "    <tr>\n",
       "      <th>2022-06-22 20:36:50.937989</th>\n",
       "      <td>1.264620</td>\n",
       "      <td>0.127803</td>\n",
       "      <td>-0.868426</td>\n",
       "      <td>-1.826440</td>\n",
       "    </tr>\n",
       "    <tr>\n",
       "      <th>2022-06-23 20:36:50.937989</th>\n",
       "      <td>0.542904</td>\n",
       "      <td>2.858203</td>\n",
       "      <td>-0.768918</td>\n",
       "      <td>0.444737</td>\n",
       "    </tr>\n",
       "    <tr>\n",
       "      <th>2022-06-24 20:36:50.937989</th>\n",
       "      <td>-1.865505</td>\n",
       "      <td>-1.538929</td>\n",
       "      <td>1.006042</td>\n",
       "      <td>-0.010069</td>\n",
       "    </tr>\n",
       "    <tr>\n",
       "      <th>2022-06-25 20:36:50.937989</th>\n",
       "      <td>-1.201791</td>\n",
       "      <td>0.054217</td>\n",
       "      <td>0.285303</td>\n",
       "      <td>0.445173</td>\n",
       "    </tr>\n",
       "  </tbody>\n",
       "</table>\n",
       "</div>"
      ],
      "text/plain": [
       "                                   A         B         C         D\n",
       "2022-06-20 20:36:50.937989 -1.143977 -1.170483  0.205338 -0.572750\n",
       "2022-06-21 20:36:50.937989 -0.048395 -1.899018 -1.071365  1.186373\n",
       "2022-06-22 20:36:50.937989  1.264620  0.127803 -0.868426 -1.826440\n",
       "2022-06-23 20:36:50.937989  0.542904  2.858203 -0.768918  0.444737\n",
       "2022-06-24 20:36:50.937989 -1.865505 -1.538929  1.006042 -0.010069\n",
       "2022-06-25 20:36:50.937989 -1.201791  0.054217  0.285303  0.445173"
      ]
     },
     "execution_count": 18,
     "metadata": {},
     "output_type": "execute_result"
    }
   ],
   "source": [
    "df1"
   ]
  },
  {
   "cell_type": "code",
   "execution_count": 11,
   "id": "263b5cb2",
   "metadata": {},
   "outputs": [
    {
     "data": {
      "text/html": [
       "<div>\n",
       "<style scoped>\n",
       "    .dataframe tbody tr th:only-of-type {\n",
       "        vertical-align: middle;\n",
       "    }\n",
       "\n",
       "    .dataframe tbody tr th {\n",
       "        vertical-align: top;\n",
       "    }\n",
       "\n",
       "    .dataframe thead th {\n",
       "        text-align: right;\n",
       "    }\n",
       "</style>\n",
       "<table border=\"1\" class=\"dataframe\">\n",
       "  <thead>\n",
       "    <tr style=\"text-align: right;\">\n",
       "      <th></th>\n",
       "      <th>animal</th>\n",
       "      <th>age</th>\n",
       "      <th>visits</th>\n",
       "      <th>priority</th>\n",
       "    </tr>\n",
       "  </thead>\n",
       "  <tbody>\n",
       "    <tr>\n",
       "      <th>a</th>\n",
       "      <td>cat</td>\n",
       "      <td>2.5</td>\n",
       "      <td>1</td>\n",
       "      <td>yes</td>\n",
       "    </tr>\n",
       "    <tr>\n",
       "      <th>b</th>\n",
       "      <td>cat</td>\n",
       "      <td>3.0</td>\n",
       "      <td>3</td>\n",
       "      <td>yes</td>\n",
       "    </tr>\n",
       "    <tr>\n",
       "      <th>c</th>\n",
       "      <td>snake</td>\n",
       "      <td>0.5</td>\n",
       "      <td>2</td>\n",
       "      <td>no</td>\n",
       "    </tr>\n",
       "    <tr>\n",
       "      <th>d</th>\n",
       "      <td>dog</td>\n",
       "      <td>NaN</td>\n",
       "      <td>3</td>\n",
       "      <td>yes</td>\n",
       "    </tr>\n",
       "    <tr>\n",
       "      <th>e</th>\n",
       "      <td>dog</td>\n",
       "      <td>5.0</td>\n",
       "      <td>2</td>\n",
       "      <td>no</td>\n",
       "    </tr>\n",
       "    <tr>\n",
       "      <th>f</th>\n",
       "      <td>cat</td>\n",
       "      <td>2.0</td>\n",
       "      <td>3</td>\n",
       "      <td>no</td>\n",
       "    </tr>\n",
       "    <tr>\n",
       "      <th>g</th>\n",
       "      <td>snake</td>\n",
       "      <td>4.5</td>\n",
       "      <td>1</td>\n",
       "      <td>no</td>\n",
       "    </tr>\n",
       "    <tr>\n",
       "      <th>h</th>\n",
       "      <td>cat</td>\n",
       "      <td>NaN</td>\n",
       "      <td>1</td>\n",
       "      <td>yes</td>\n",
       "    </tr>\n",
       "    <tr>\n",
       "      <th>i</th>\n",
       "      <td>dog</td>\n",
       "      <td>7.0</td>\n",
       "      <td>2</td>\n",
       "      <td>no</td>\n",
       "    </tr>\n",
       "    <tr>\n",
       "      <th>j</th>\n",
       "      <td>dog</td>\n",
       "      <td>3.0</td>\n",
       "      <td>1</td>\n",
       "      <td>no</td>\n",
       "    </tr>\n",
       "  </tbody>\n",
       "</table>\n",
       "</div>"
      ],
      "text/plain": [
       "  animal  age  visits priority\n",
       "a    cat  2.5       1      yes\n",
       "b    cat  3.0       3      yes\n",
       "c  snake  0.5       2       no\n",
       "d    dog  NaN       3      yes\n",
       "e    dog  5.0       2       no\n",
       "f    cat  2.0       3       no\n",
       "g  snake  4.5       1       no\n",
       "h    cat  NaN       1      yes\n",
       "i    dog  7.0       2       no\n",
       "j    dog  3.0       1       no"
      ]
     },
     "execution_count": 11,
     "metadata": {},
     "output_type": "execute_result"
    }
   ],
   "source": [
    "df2 = pd.DataFrame(data, index = labels)\n",
    "df2"
   ]
  },
  {
   "cell_type": "code",
   "execution_count": 12,
   "id": "d1bef209",
   "metadata": {},
   "outputs": [
    {
     "data": {
      "text/plain": [
       "array([['cat', 2.5, 1, 'yes'],\n",
       "       ['cat', 3.0, 3, 'yes'],\n",
       "       ['snake', 0.5, 2, 'no'],\n",
       "       ['dog', nan, 3, 'yes'],\n",
       "       ['dog', 5.0, 2, 'no'],\n",
       "       ['cat', 2.0, 3, 'no'],\n",
       "       ['snake', 4.5, 1, 'no'],\n",
       "       ['cat', nan, 1, 'yes'],\n",
       "       ['dog', 7.0, 2, 'no'],\n",
       "       ['dog', 3.0, 1, 'no']], dtype=object)"
      ]
     },
     "execution_count": 12,
     "metadata": {},
     "output_type": "execute_result"
    }
   ],
   "source": [
    "df2.values"
   ]
  },
  {
   "cell_type": "code",
   "execution_count": 13,
   "id": "bd329fd0",
   "metadata": {},
   "outputs": [
    {
     "data": {
      "text/html": [
       "<div>\n",
       "<style scoped>\n",
       "    .dataframe tbody tr th:only-of-type {\n",
       "        vertical-align: middle;\n",
       "    }\n",
       "\n",
       "    .dataframe tbody tr th {\n",
       "        vertical-align: top;\n",
       "    }\n",
       "\n",
       "    .dataframe thead th {\n",
       "        text-align: right;\n",
       "    }\n",
       "</style>\n",
       "<table border=\"1\" class=\"dataframe\">\n",
       "  <thead>\n",
       "    <tr style=\"text-align: right;\">\n",
       "      <th></th>\n",
       "      <th>age</th>\n",
       "      <th>visits</th>\n",
       "    </tr>\n",
       "  </thead>\n",
       "  <tbody>\n",
       "    <tr>\n",
       "      <th>count</th>\n",
       "      <td>8.000000</td>\n",
       "      <td>10.000000</td>\n",
       "    </tr>\n",
       "    <tr>\n",
       "      <th>mean</th>\n",
       "      <td>3.437500</td>\n",
       "      <td>1.900000</td>\n",
       "    </tr>\n",
       "    <tr>\n",
       "      <th>std</th>\n",
       "      <td>2.007797</td>\n",
       "      <td>0.875595</td>\n",
       "    </tr>\n",
       "    <tr>\n",
       "      <th>min</th>\n",
       "      <td>0.500000</td>\n",
       "      <td>1.000000</td>\n",
       "    </tr>\n",
       "    <tr>\n",
       "      <th>25%</th>\n",
       "      <td>2.375000</td>\n",
       "      <td>1.000000</td>\n",
       "    </tr>\n",
       "    <tr>\n",
       "      <th>50%</th>\n",
       "      <td>3.000000</td>\n",
       "      <td>2.000000</td>\n",
       "    </tr>\n",
       "    <tr>\n",
       "      <th>75%</th>\n",
       "      <td>4.625000</td>\n",
       "      <td>2.750000</td>\n",
       "    </tr>\n",
       "    <tr>\n",
       "      <th>max</th>\n",
       "      <td>7.000000</td>\n",
       "      <td>3.000000</td>\n",
       "    </tr>\n",
       "  </tbody>\n",
       "</table>\n",
       "</div>"
      ],
      "text/plain": [
       "            age     visits\n",
       "count  8.000000  10.000000\n",
       "mean   3.437500   1.900000\n",
       "std    2.007797   0.875595\n",
       "min    0.500000   1.000000\n",
       "25%    2.375000   1.000000\n",
       "50%    3.000000   2.000000\n",
       "75%    4.625000   2.750000\n",
       "max    7.000000   3.000000"
      ]
     },
     "execution_count": 13,
     "metadata": {},
     "output_type": "execute_result"
    }
   ],
   "source": [
    "df2.describe()"
   ]
  },
  {
   "cell_type": "code",
   "execution_count": 14,
   "id": "9c273bd2",
   "metadata": {},
   "outputs": [
    {
     "data": {
      "text/html": [
       "<div>\n",
       "<style scoped>\n",
       "    .dataframe tbody tr th:only-of-type {\n",
       "        vertical-align: middle;\n",
       "    }\n",
       "\n",
       "    .dataframe tbody tr th {\n",
       "        vertical-align: top;\n",
       "    }\n",
       "\n",
       "    .dataframe thead th {\n",
       "        text-align: right;\n",
       "    }\n",
       "</style>\n",
       "<table border=\"1\" class=\"dataframe\">\n",
       "  <thead>\n",
       "    <tr style=\"text-align: right;\">\n",
       "      <th></th>\n",
       "      <th>animal</th>\n",
       "      <th>age</th>\n",
       "      <th>visits</th>\n",
       "      <th>priority</th>\n",
       "    </tr>\n",
       "  </thead>\n",
       "  <tbody>\n",
       "    <tr>\n",
       "      <th>a</th>\n",
       "      <td>cat</td>\n",
       "      <td>2.5</td>\n",
       "      <td>1</td>\n",
       "      <td>yes</td>\n",
       "    </tr>\n",
       "    <tr>\n",
       "      <th>b</th>\n",
       "      <td>cat</td>\n",
       "      <td>3.0</td>\n",
       "      <td>3</td>\n",
       "      <td>yes</td>\n",
       "    </tr>\n",
       "    <tr>\n",
       "      <th>c</th>\n",
       "      <td>snake</td>\n",
       "      <td>0.5</td>\n",
       "      <td>2</td>\n",
       "      <td>no</td>\n",
       "    </tr>\n",
       "  </tbody>\n",
       "</table>\n",
       "</div>"
      ],
      "text/plain": [
       "  animal  age  visits priority\n",
       "a    cat  2.5       1      yes\n",
       "b    cat  3.0       3      yes\n",
       "c  snake  0.5       2       no"
      ]
     },
     "execution_count": 14,
     "metadata": {},
     "output_type": "execute_result"
    }
   ],
   "source": [
    "df2.head(3)"
   ]
  },
  {
   "cell_type": "code",
   "execution_count": 15,
   "id": "eecaa345",
   "metadata": {},
   "outputs": [
    {
     "data": {
      "text/html": [
       "<div>\n",
       "<style scoped>\n",
       "    .dataframe tbody tr th:only-of-type {\n",
       "        vertical-align: middle;\n",
       "    }\n",
       "\n",
       "    .dataframe tbody tr th {\n",
       "        vertical-align: top;\n",
       "    }\n",
       "\n",
       "    .dataframe thead th {\n",
       "        text-align: right;\n",
       "    }\n",
       "</style>\n",
       "<table border=\"1\" class=\"dataframe\">\n",
       "  <thead>\n",
       "    <tr style=\"text-align: right;\">\n",
       "      <th></th>\n",
       "      <th>animal</th>\n",
       "      <th>age</th>\n",
       "      <th>visits</th>\n",
       "      <th>priority</th>\n",
       "    </tr>\n",
       "  </thead>\n",
       "  <tbody>\n",
       "    <tr>\n",
       "      <th>h</th>\n",
       "      <td>cat</td>\n",
       "      <td>NaN</td>\n",
       "      <td>1</td>\n",
       "      <td>yes</td>\n",
       "    </tr>\n",
       "    <tr>\n",
       "      <th>i</th>\n",
       "      <td>dog</td>\n",
       "      <td>7.0</td>\n",
       "      <td>2</td>\n",
       "      <td>no</td>\n",
       "    </tr>\n",
       "    <tr>\n",
       "      <th>j</th>\n",
       "      <td>dog</td>\n",
       "      <td>3.0</td>\n",
       "      <td>1</td>\n",
       "      <td>no</td>\n",
       "    </tr>\n",
       "  </tbody>\n",
       "</table>\n",
       "</div>"
      ],
      "text/plain": [
       "  animal  age  visits priority\n",
       "h    cat  NaN       1      yes\n",
       "i    dog  7.0       2       no\n",
       "j    dog  3.0       1       no"
      ]
     },
     "execution_count": 15,
     "metadata": {},
     "output_type": "execute_result"
    }
   ],
   "source": [
    "df2.tail(3)"
   ]
  },
  {
   "cell_type": "code",
   "execution_count": 21,
   "id": "f17754d3",
   "metadata": {},
   "outputs": [
    {
     "data": {
      "image/png": "[encoded data removed]",
      "text/plain": [
       "<Figure size 432x288 with 1 Axes>"
      ]
     },
     "metadata": {
      "needs_background": "light"
     },
     "output_type": "display_data"
    }
   ],
   "source": [
    "from matplotlib import pyplot as plt\n",
    "import numpy as np\n",
    "a = np.array([20,87,4,86,53,74,56,51,11,20,40,15,79,25,57])\n",
    "plt.hist(a, bins = [0,20,40,60,80,100])\n",
    "plt.title('histogram')\n",
    "plt.show()"
   ]
  },
  {
   "cell_type": "code",
   "execution_count": 22,
   "id": "8f18d112",
   "metadata": {},
   "outputs": [
    {
     "data": {
      "image/png": "[encoded data removed]",
      "text/plain": [
       "<Figure size 432x288 with 1 Axes>"
      ]
     },
     "metadata": {
      "needs_background": "light"
     },
     "output_type": "display_data"
    }
   ],
   "source": [
    "plt.hist(a, bins = [0,10,20,30,40,50,60,70,80,90,100])\n",
    "plt.title('histogram1')\n",
    "plt.show()"
   ]
  },
  {
   "cell_type": "code",
   "execution_count": 4,
   "id": "e6ec5164",
   "metadata": {},
   "outputs": [
    {
     "name": "stdout",
     "output_type": "stream",
     "text": [
      "[1.         1.22222222 1.44444444 1.66666667 1.88888889 2.11111111\n",
      " 2.33333333 2.55555556 2.77777778 3.        ]\n",
      "[[0.         1.         1.41421356]\n",
      " [1.73205081 2.         2.23606798]]\n",
      "1.707825127659933\n",
      "[[      -inf 0.         0.30103   ]\n",
      " [0.47712125 0.60205999 0.69897   ]]\n"
     ]
    },
    {
     "name": "stderr",
     "output_type": "stream",
     "text": [
      "C:\\Users\\brije\\AppData\\Local\\Temp\\ipykernel_14280\\1535167924.py:9: RuntimeWarning: divide by zero encountered in log10\n",
      "  print(np.log10(a))\n"
     ]
    }
   ],
   "source": [
    "# other useful function in numpy \n",
    "# linspace function \n",
    "a = np.linspace(1,3,10)\n",
    "print(a)\n",
    "\n",
    "a = np.arange(6).reshape(2,3)\n",
    "print(np.sqrt(a))\n",
    "print(np.std(a))\n",
    "print(np.log10(a))"
   ]
  },
  {
   "cell_type": "code",
   "execution_count": 5,
   "id": "b0310778",
   "metadata": {},
   "outputs": [
    {
     "name": "stdout",
     "output_type": "stream",
     "text": [
      "[0.  0.1 0.2 0.3 0.4 0.5 0.6 0.7 0.8 0.9 1.  1.1 1.2 1.3 1.4 1.5 1.6 1.7\n",
      " 1.8 1.9 2.  2.1 2.2 2.3 2.4 2.5 2.6 2.7 2.8 2.9 3.  3.1 3.2 3.3 3.4 3.5\n",
      " 3.6 3.7 3.8 3.9 4.  4.1 4.2 4.3 4.4 4.5 4.6 4.7 4.8 4.9 5.  5.1 5.2 5.3\n",
      " 5.4 5.5 5.6 5.7 5.8 5.9 6.  6.1 6.2 6.3 6.4 6.5 6.6 6.7 6.8 6.9 7.  7.1\n",
      " 7.2 7.3 7.4 7.5 7.6 7.7 7.8 7.9 8.  8.1 8.2 8.3 8.4 8.5 8.6 8.7 8.8 8.9\n",
      " 9.  9.1 9.2 9.3 9.4]\n",
      "[ 0.          0.09983342  0.19866933  0.29552021  0.38941834  0.47942554\n",
      "  0.56464247  0.64421769  0.71735609  0.78332691  0.84147098  0.89120736\n",
      "  0.93203909  0.96355819  0.98544973  0.99749499  0.9995736   0.99166481\n",
      "  0.97384763  0.94630009  0.90929743  0.86320937  0.8084964   0.74570521\n",
      "  0.67546318  0.59847214  0.51550137  0.42737988  0.33498815  0.23924933\n",
      "  0.14112001  0.04158066 -0.05837414 -0.15774569 -0.2555411  -0.35078323\n",
      " -0.44252044 -0.52983614 -0.61185789 -0.68776616 -0.7568025  -0.81827711\n",
      " -0.87157577 -0.91616594 -0.95160207 -0.97753012 -0.993691   -0.99992326\n",
      " -0.99616461 -0.98245261 -0.95892427 -0.92581468 -0.88345466 -0.83226744\n",
      " -0.77276449 -0.70554033 -0.63126664 -0.55068554 -0.46460218 -0.37387666\n",
      " -0.2794155  -0.1821625  -0.0830894   0.0168139   0.1165492   0.21511999\n",
      "  0.31154136  0.40484992  0.49411335  0.57843976  0.6569866   0.72896904\n",
      "  0.79366786  0.85043662  0.8987081   0.93799998  0.96791967  0.98816823\n",
      "  0.99854335  0.99894134  0.98935825  0.96988981  0.94073056  0.90217183\n",
      "  0.85459891  0.79848711  0.7343971   0.66296923  0.58491719  0.50102086\n",
      "  0.41211849  0.31909836  0.22288991  0.12445442  0.02477543]\n"
     ]
    },
    {
     "data": {
      "image/png": "[encoded data removed]",
      "text/plain": [
       "<Figure size 432x288 with 1 Axes>"
      ]
     },
     "metadata": {
      "needs_background": "light"
     },
     "output_type": "display_data"
    },
    {
     "name": "stdout",
     "output_type": "stream",
     "text": [
      "[[0 0 0 0 0 0]\n",
      " [1 0 1 0 1 0]\n",
      " [0 0 0 0 0 0]\n",
      " [1 0 1 0 1 0]\n",
      " [0 0 0 0 0 0]\n",
      " [1 0 1 0 1 0]]\n"
     ]
    }
   ],
   "source": [
    "from matplotlib import pyplot as plt\n",
    "import numpy as np\n",
    "\n",
    "x = np.arange(0, 3*np.pi, 0.1)\n",
    "print(x)\n",
    "y = np.sin(x)\n",
    "print(y)\n",
    "plt.plot(x,y)\n",
    "plt.show()\n",
    "\n",
    "z = np.zeros((6,6), dtype = int)\n",
    "z[1::2, ::2] = 1\n",
    "print(z)"
   ]
  },
  {
   "cell_type": "code",
   "execution_count": 6,
   "id": "4cfae8e8",
   "metadata": {},
   "outputs": [],
   "source": [
    "# Pandas \n",
    "# Series    ,   Basic operations on series\n",
    "# Dataframe ,   Basic operations on dataframe \n",
    "# file related  operations on dataframe \n",
    "# visualisation practise example\n",
    "\n",
    "# Series - is a one dimensional array with labels. it contains any python datatype. \n",
    "# Dataframe is a two dimensional data structures with labels. we can use labels to locate data\n"
   ]
  },
  {
   "cell_type": "code",
   "execution_count": 7,
   "id": "83f47783",
   "metadata": {},
   "outputs": [
    {
     "name": "stdout",
     "output_type": "stream",
     "text": [
      "1.4.2\n",
      "0    0\n",
      "1    1\n",
      "2    2\n",
      "3    3\n",
      "dtype: int64\n",
      "1    0\n",
      "2    1\n",
      "3    2\n",
      "4    3\n",
      "5    4\n",
      "dtype: int64\n",
      "Array of 5 random numbers created :  [-0.19069517  0.10641738  1.58972128 -0.53663429 -0.14513482]\n",
      "a   -0.190695\n",
      "b    0.106417\n",
      "c    1.589721\n",
      "d   -0.536634\n",
      "e   -0.145135\n",
      "dtype: float64\n",
      "a    1\n",
      "b    2\n",
      "c    3\n",
      "d    4\n",
      "e    5\n",
      "dtype: int64\n",
      "A    1\n",
      "B    2\n",
      "C    3\n",
      "D    4\n",
      "E    5\n",
      "dtype: int64\n"
     ]
    }
   ],
   "source": [
    "import pandas as pd\n",
    "import numpy as np\n",
    "# check pandas version \n",
    "print(pd.__version__)\n",
    "\n",
    "# Series create manipulate querry delete\n",
    "s1 = pd.Series(range(4))\n",
    "print(s1)\n",
    "order = range(1, 6)\n",
    "s2 = pd.Series(range(5), index = order)\n",
    "print(s2)\n",
    "n = np.random.randn(5)\n",
    "print('Array of 5 random numbers created : ', n)\n",
    "index = ['a', 'b', 'c', 'd', 'e']\n",
    "s2 = pd.Series(n, index = index)\n",
    "print(s2)\n",
    "\n",
    "# create series from dictionary.. \n",
    "d = {'a':1, 'b':2, 'c':3, 'd':4, 'e':5}\n",
    "s3 = pd.Series(d)\n",
    "print(s3)\n",
    "\n",
    "s3.index = ['A', 'B', 'C', 'D', 'E']\n",
    "print(s3)"
   ]
  },
  {
   "cell_type": "code",
   "execution_count": 9,
   "id": "948c8784",
   "metadata": {},
   "outputs": [
    {
     "name": "stdout",
     "output_type": "stream",
     "text": [
      "A    1.000000\n",
      "B    2.000000\n",
      "C    3.000000\n",
      "D    4.000000\n",
      "E    5.000000\n",
      "a   -0.190695\n",
      "b    0.106417\n",
      "c    1.589721\n",
      "d   -0.536634\n",
      "e   -0.145135\n",
      "dtype: float64\n",
      "A    1.000000\n",
      "B    2.000000\n",
      "C    3.000000\n",
      "D    4.000000\n",
      "E    5.000000\n",
      "a   -0.190695\n",
      "b    0.106417\n",
      "c    1.589721\n",
      "d   -0.536634\n",
      "dtype: float64\n",
      "0    0\n",
      "1    1\n",
      "2    2\n",
      "3    3\n",
      "4    4\n",
      "5    5\n",
      "6    6\n",
      "7    7\n",
      "dtype: int64\n",
      "0     8\n",
      "1     9\n",
      "2    10\n",
      "3    11\n",
      "4    12\n",
      "5    13\n",
      "dtype: int64\n",
      "0     8.0\n",
      "1    10.0\n",
      "2    12.0\n",
      "3    14.0\n",
      "4    16.0\n",
      "5    18.0\n",
      "6     NaN\n",
      "7     NaN\n",
      "dtype: float64\n",
      "Median :  10.5\n",
      "Max    :  13\n",
      "Min    :  8\n"
     ]
    },
    {
     "name": "stderr",
     "output_type": "stream",
     "text": [
      "C:\\Users\\brije\\AppData\\Local\\Temp\\ipykernel_14280\\2626781116.py:2: FutureWarning: The series.append method is deprecated and will be removed from pandas in a future version. Use pandas.concat instead.\n",
      "  s4 = s3.append(s2)\n"
     ]
    }
   ],
   "source": [
    "# Slicing \n",
    "s4 = s3.append(s2)\n",
    "print(s4)\n",
    "print(s4.drop('e'))\n",
    "arr1 = range(8)\n",
    "arr2 = range(8,14)\n",
    "s5 = pd.Series(arr1)\n",
    "s6 = pd.Series(arr2)\n",
    "print(s5)\n",
    "print(s6)\n",
    "print(s5.add(s6)) # add the values of series labelwise and displays Nan if could not add \n",
    "\n",
    "print('Median : ',s6.median())\n",
    "print('Max    : ',s6.max())\n",
    "print('Min    : ',s6.min())"
   ]
  },
  {
   "cell_type": "code",
   "execution_count": 2,
   "id": "27739593",
   "metadata": {},
   "outputs": [
    {
     "name": "stdout",
     "output_type": "stream",
     "text": [
      "DatetimeIndex(['2022-06-20 20:16:26.637295', '2022-06-21 20:16:26.637295',\n",
      "               '2022-06-22 20:16:26.637295', '2022-06-23 20:16:26.637295',\n",
      "               '2022-06-24 20:16:26.637295', '2022-06-25 20:16:26.637295'],\n",
      "              dtype='datetime64[ns]', freq='D')\n",
      "[[ 1.47233157 -0.47227354 -0.77473404 -0.67432453]\n",
      " [ 1.86882712 -1.11162753  0.43217383 -2.07852598]\n",
      " [-0.00560529 -0.43695344  0.54330085  0.46482185]\n",
      " [-0.11009345  1.97284723  0.89026234 -0.6901206 ]\n",
      " [ 0.37975293  0.08610361  0.04263963 -0.72757608]\n",
      " [-0.06802054 -1.54403856  1.66878533 -0.32591376]]\n",
      "--------------------------------------------------------------------------------------------------------\n",
      "                                   A         B         C         D\n",
      "2022-06-20 20:16:26.637295  1.472332 -0.472274 -0.774734 -0.674325\n",
      "2022-06-21 20:16:26.637295  1.868827 -1.111628  0.432174 -2.078526\n",
      "2022-06-22 20:16:26.637295 -0.005605 -0.436953  0.543301  0.464822\n",
      "2022-06-23 20:16:26.637295 -0.110093  1.972847  0.890262 -0.690121\n",
      "2022-06-24 20:16:26.637295  0.379753  0.086104  0.042640 -0.727576\n",
      "2022-06-25 20:16:26.637295 -0.068021 -1.544039  1.668785 -0.325914\n",
      "--------------------------------------------------------------------------------------------------------\n",
      "  animal  age  visits priority\n",
      "a    cat  2.5       1      yes\n",
      "b    cat  3.0       3      yes\n",
      "c  snake  0.5       2       no\n",
      "d    dog  NaN       3      yes\n",
      "e    dog  5.0       2       no\n",
      "f    cat  2.0       3       no\n",
      "g  snake  4.5       1       no\n",
      "h    cat  NaN       1      yes\n",
      "i    dog  7.0       2       no\n",
      "j    dog  3.0       1       no\n",
      "--------------------------------------------------------------------------------------------------------\n",
      "[['cat' 2.5 1 'yes']\n",
      " ['cat' 3.0 3 'yes']\n",
      " ['snake' 0.5 2 'no']\n",
      " ['dog' nan 3 'yes']\n",
      " ['dog' 5.0 2 'no']\n",
      " ['cat' 2.0 3 'no']\n",
      " ['snake' 4.5 1 'no']\n",
      " ['cat' nan 1 'yes']\n",
      " ['dog' 7.0 2 'no']\n",
      " ['dog' 3.0 1 'no']]\n",
      "--------------------------------------------------------------------------------------------------------\n",
      "            age     visits\n",
      "count  8.000000  10.000000\n",
      "mean   3.437500   1.900000\n",
      "std    2.007797   0.875595\n",
      "min    0.500000   1.000000\n",
      "25%    2.375000   1.000000\n",
      "50%    3.000000   2.000000\n",
      "75%    4.625000   2.750000\n",
      "max    7.000000   3.000000\n",
      "--------------------------------------------------------------------------------------------------------\n",
      "  animal  age  visits priority\n",
      "a    cat  2.5       1      yes\n",
      "b    cat  3.0       3      yes\n",
      "c  snake  0.5       2       no\n"
     ]
    },
    {
     "data": {
      "text/html": [
       "<div>\n",
       "<style scoped>\n",
       "    .dataframe tbody tr th:only-of-type {\n",
       "        vertical-align: middle;\n",
       "    }\n",
       "\n",
       "    .dataframe tbody tr th {\n",
       "        vertical-align: top;\n",
       "    }\n",
       "\n",
       "    .dataframe thead th {\n",
       "        text-align: right;\n",
       "    }\n",
       "</style>\n",
       "<table border=\"1\" class=\"dataframe\">\n",
       "  <thead>\n",
       "    <tr style=\"text-align: right;\">\n",
       "      <th></th>\n",
       "      <th>animal</th>\n",
       "      <th>age</th>\n",
       "      <th>visits</th>\n",
       "      <th>priority</th>\n",
       "    </tr>\n",
       "  </thead>\n",
       "  <tbody>\n",
       "    <tr>\n",
       "      <th>h</th>\n",
       "      <td>cat</td>\n",
       "      <td>NaN</td>\n",
       "      <td>1</td>\n",
       "      <td>yes</td>\n",
       "    </tr>\n",
       "    <tr>\n",
       "      <th>i</th>\n",
       "      <td>dog</td>\n",
       "      <td>7.0</td>\n",
       "      <td>2</td>\n",
       "      <td>no</td>\n",
       "    </tr>\n",
       "    <tr>\n",
       "      <th>j</th>\n",
       "      <td>dog</td>\n",
       "      <td>3.0</td>\n",
       "      <td>1</td>\n",
       "      <td>no</td>\n",
       "    </tr>\n",
       "  </tbody>\n",
       "</table>\n",
       "</div>"
      ],
      "text/plain": [
       "  animal  age  visits priority\n",
       "h    cat  NaN       1      yes\n",
       "i    dog  7.0       2       no\n",
       "j    dog  3.0       1       no"
      ]
     },
     "execution_count": 2,
     "metadata": {},
     "output_type": "execute_result"
    }
   ],
   "source": [
    "# Dataframe creation ..\n",
    "import pandas as pd\n",
    "import numpy as np\n",
    "dates = pd.date_range('today', periods = 6) # define time sequence as index\n",
    "num_arr = np.random.randn(6, 4)\n",
    "columns = ['A', 'B', 'C', 'D']\n",
    "print(dates)\n",
    "print(num_arr)\n",
    "print(\"--------------------------------------------------------------------------------------------------------\")\n",
    "df1 = pd.DataFrame(num_arr, index = dates, columns = columns)\n",
    "print(df1)\n",
    "\n",
    "data = {'animal'   : ['cat', 'cat', 'snake', 'dog', 'dog', 'cat', 'snake', 'cat', 'dog', 'dog'],\n",
    "        'age'      : [2.5, 3, 0.5, np.nan, 5, 2, 4.5, np.nan, 7, 3],\n",
    "        'visits'   : [1, 3, 2, 3, 2, 3, 1, 1, 2, 1],\n",
    "        'priority' : ['yes', 'yes', 'no', 'yes', 'no', 'no', 'no', 'yes', 'no', 'no']\n",
    "       }\n",
    "labels =   ['a', 'b', 'c', 'd', 'e', 'f', 'g', 'h', 'i', 'j']\n",
    "print(\"--------------------------------------------------------------------------------------------------------\")\n",
    "\n",
    "df2 = pd.DataFrame(data, index = labels)\n",
    "print(df2)\n",
    "print(\"--------------------------------------------------------------------------------------------------------\")\n",
    "print(df2.values)\n",
    "print(\"--------------------------------------------------------------------------------------------------------\")\n",
    "print(df2.describe())\n",
    "print(\"--------------------------------------------------------------------------------------------------------\")\n",
    "print(df2.head(3))\n",
    "df2.tail(3)"
   ]
  },
  {
   "cell_type": "markdown",
   "id": "c13b6d0a",
   "metadata": {},
   "source": [
    "# Pandas Visualisation"
   ]
  },
  {
   "cell_type": "code",
   "execution_count": 4,
   "id": "f84cf467",
   "metadata": {},
   "outputs": [
    {
     "name": "stdout",
     "output_type": "stream",
     "text": [
      "2022-06-20 20:20:43.131159   -0.213178\n",
      "2022-06-21 20:20:43.131159   -1.186444\n",
      "2022-06-22 20:20:43.131159   -1.044450\n",
      "2022-06-23 20:20:43.131159   -1.530935\n",
      "2022-06-24 20:20:43.131159    0.642241\n",
      "2022-06-25 20:20:43.131159    1.160063\n",
      "2022-06-26 20:20:43.131159    0.297907\n",
      "2022-06-27 20:20:43.131159    1.262093\n",
      "2022-06-28 20:20:43.131159    1.077495\n",
      "2022-06-29 20:20:43.131159    0.283101\n",
      "2022-06-30 20:20:43.131159   -0.762849\n",
      "2022-07-01 20:20:43.131159   -1.038509\n",
      "2022-07-02 20:20:43.131159   -1.006391\n",
      "2022-07-03 20:20:43.131159   -0.844032\n",
      "2022-07-04 20:20:43.131159   -1.156073\n",
      "2022-07-05 20:20:43.131159    1.125419\n",
      "2022-07-06 20:20:43.131159   -0.927235\n",
      "2022-07-07 20:20:43.131159   -0.050473\n",
      "2022-07-08 20:20:43.131159    0.736926\n",
      "2022-07-09 20:20:43.131159    0.272153\n",
      "2022-07-10 20:20:43.131159   -0.781520\n",
      "2022-07-11 20:20:43.131159   -0.423775\n",
      "2022-07-12 20:20:43.131159    2.806257\n",
      "2022-07-13 20:20:43.131159   -0.320118\n",
      "2022-07-14 20:20:43.131159   -0.070063\n",
      "2022-07-15 20:20:43.131159   -0.542539\n",
      "2022-07-16 20:20:43.131159   -1.741344\n",
      "2022-07-17 20:20:43.131159    0.723959\n",
      "2022-07-18 20:20:43.131159    0.404566\n",
      "2022-07-19 20:20:43.131159   -1.139250\n",
      "2022-07-20 20:20:43.131159   -0.757003\n",
      "2022-07-21 20:20:43.131159   -1.134134\n",
      "2022-07-22 20:20:43.131159    0.734297\n",
      "2022-07-23 20:20:43.131159   -0.200113\n",
      "2022-07-24 20:20:43.131159    0.434081\n",
      "2022-07-25 20:20:43.131159    2.019835\n",
      "2022-07-26 20:20:43.131159    0.935913\n",
      "2022-07-27 20:20:43.131159    0.528731\n",
      "2022-07-28 20:20:43.131159   -0.138779\n",
      "2022-07-29 20:20:43.131159   -0.900276\n",
      "2022-07-30 20:20:43.131159    1.162631\n",
      "2022-07-31 20:20:43.131159    1.261032\n",
      "2022-08-01 20:20:43.131159   -0.404393\n",
      "2022-08-02 20:20:43.131159    1.902933\n",
      "2022-08-03 20:20:43.131159    1.333486\n",
      "2022-08-04 20:20:43.131159   -0.405190\n",
      "2022-08-05 20:20:43.131159    1.839214\n",
      "2022-08-06 20:20:43.131159   -0.608585\n",
      "2022-08-07 20:20:43.131159    0.992591\n",
      "2022-08-08 20:20:43.131159    0.835846\n",
      "Freq: D, dtype: float64\n"
     ]
    },
    {
     "data": {
      "text/plain": [
       "<AxesSubplot:>"
      ]
     },
     "execution_count": 4,
     "metadata": {},
     "output_type": "execute_result"
    },
    {
     "data": {
      "image/png": "[encoded data removed]",
      "text/plain": [
       "<Figure size 432x288 with 1 Axes>"
      ]
     },
     "metadata": {
      "needs_background": "light"
     },
     "output_type": "display_data"
    }
   ],
   "source": [
    "# Series and dataframe line chart\n",
    "import numpy as np\n",
    "%matplotlib inline\n",
    "\n",
    "ts = pd.Series(np.random.randn(50), index = pd.date_range('today', periods = 50))\n",
    "print(ts)\n",
    "ts = ts.cumsum()\n",
    "ts.plot()"
   ]
  },
  {
   "cell_type": "code",
   "execution_count": 6,
   "id": "51a56059",
   "metadata": {},
   "outputs": [
    {
     "data": {
      "text/plain": [
       "<AxesSubplot:>"
      ]
     },
     "execution_count": 6,
     "metadata": {},
     "output_type": "execute_result"
    },
    {
     "data": {
      "image/png": "[encoded data removed]",
      "text/plain": [
       "<Figure size 432x288 with 1 Axes>"
      ]
     },
     "metadata": {
      "needs_background": "light"
     },
     "output_type": "display_data"
    }
   ],
   "source": [
    "df = pd.DataFrame(np.random.randn(50, 4), index = ts.index, columns = ['A', 'B', 'X', 'Y'])\n",
    "df = df.cumsum()\n",
    "df.plot()"
   ]
  },
  {
   "cell_type": "markdown",
   "id": "bb9112fb",
   "metadata": {},
   "source": [
    "# Remove repeated data from pandas "
   ]
  },
  {
   "cell_type": "code",
   "execution_count": 10,
   "id": "a430b483",
   "metadata": {},
   "outputs": [
    {
     "data": {
      "text/html": [
       "<div>\n",
       "<style scoped>\n",
       "    .dataframe tbody tr th:only-of-type {\n",
       "        vertical-align: middle;\n",
       "    }\n",
       "\n",
       "    .dataframe tbody tr th {\n",
       "        vertical-align: top;\n",
       "    }\n",
       "\n",
       "    .dataframe thead th {\n",
       "        text-align: right;\n",
       "    }\n",
       "</style>\n",
       "<table border=\"1\" class=\"dataframe\">\n",
       "  <thead>\n",
       "    <tr style=\"text-align: right;\">\n",
       "      <th></th>\n",
       "      <th>A</th>\n",
       "    </tr>\n",
       "  </thead>\n",
       "  <tbody>\n",
       "    <tr>\n",
       "      <th>0</th>\n",
       "      <td>1</td>\n",
       "    </tr>\n",
       "    <tr>\n",
       "      <th>1</th>\n",
       "      <td>2</td>\n",
       "    </tr>\n",
       "    <tr>\n",
       "      <th>4</th>\n",
       "      <td>4</td>\n",
       "    </tr>\n",
       "    <tr>\n",
       "      <th>6</th>\n",
       "      <td>5</td>\n",
       "    </tr>\n",
       "    <tr>\n",
       "      <th>8</th>\n",
       "      <td>6</td>\n",
       "    </tr>\n",
       "    <tr>\n",
       "      <th>10</th>\n",
       "      <td>7</td>\n",
       "    </tr>\n",
       "    <tr>\n",
       "      <th>11</th>\n",
       "      <td>8</td>\n",
       "    </tr>\n",
       "  </tbody>\n",
       "</table>\n",
       "</div>"
      ],
      "text/plain": [
       "    A\n",
       "0   1\n",
       "1   2\n",
       "4   4\n",
       "6   5\n",
       "8   6\n",
       "10  7\n",
       "11  8"
      ]
     },
     "execution_count": 10,
     "metadata": {},
     "output_type": "execute_result"
    }
   ],
   "source": [
    "df1 = pd.DataFrame({'A': [1,2,2,2,4,4,5,5,6,6,7,8,8]})\n",
    "df1.loc[   df1['A'].shift() != df1['A'] ]"
   ]
  },
  {
   "cell_type": "code",
   "execution_count": null,
   "id": "f223bc0e",
   "metadata": {},
   "outputs": [],
   "source": []
  }
 ],
 "metadata": {
  "kernelspec": {
   "display_name": "Python 3 (ipykernel)",
   "language": "python",
   "name": "python3"
  },
  "language_info": {
   "codemirror_mode": {
    "name": "ipython",
    "version": 3
   },
   "file_extension": ".py",
   "mimetype": "text/x-python",
   "name": "python",
   "nbconvert_exporter": "python",
   "pygments_lexer": "ipython3",
   "version": "3.9.12"
  }
 },
 "nbformat": 4,
 "nbformat_minor": 5
}
