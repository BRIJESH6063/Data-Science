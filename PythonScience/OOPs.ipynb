{
 "cells": [
  {
   "cell_type": "code",
   "execution_count": 1,
   "id": "cbafcdd3",
   "metadata": {},
   "outputs": [],
   "source": [
    "# __fun__(self) member functions beginning and ending with double underscore signifies inbuilt or pre defined functions\n"
   ]
  },
  {
   "cell_type": "code",
   "execution_count": 4,
   "id": "bb0c7295",
   "metadata": {},
   "outputs": [],
   "source": [
    "from math import pi\n",
    "\n",
    "class circle :\n",
    "    '''A circle instance models with a radius..'''\n",
    "    \n",
    "    def __init__(self, radius=1.0):\n",
    "        '''Initializer with default radius of 1.0. initializer not a constructor..'''\n",
    "        self.radius = radius # creates an instance variable radius\n",
    "    \n",
    "    def __str__(self) :\n",
    "        '''returns a descriptive string for this instance invoked by print() and str()'''\n",
    "        return \"This is a circle with radius of {:.2f}\".format(self.radius)\n",
    "    def __repr__(self) :\n",
    "        '''Return a formal string that can be used to re-create this instance, invoked by repr()'''\n",
    "        return \"Circle(radius={})\".format(self.radius)\n",
    "    def get_area(self) :\n",
    "        return self.radius* self.radius *pi\n",
    "    "
   ]
  },
  {
   "cell_type": "code",
   "execution_count": 7,
   "id": "f9613f2c",
   "metadata": {},
   "outputs": [
    {
     "name": "stdout",
     "output_type": "stream",
     "text": [
      "This is a circle with radius of 2.10\n",
      "13.854423602330987\n",
      "2.1\n",
      "This is a circle with radius of 2.10\n",
      "Circle(radius=2.1)\n"
     ]
    },
    {
     "data": {
      "text/plain": [
       "2996394369760"
      ]
     },
     "execution_count": 7,
     "metadata": {},
     "output_type": "execute_result"
    }
   ],
   "source": [
    "c1 = circle(2.1)\n",
    "\n",
    "print(c1)\n",
    "print(c1.get_area())\n",
    "print(c1.radius)\n",
    "\n",
    "print(str(c1))\n",
    "print(repr(c1))\n",
    "id(c1)"
   ]
  },
  {
   "cell_type": "code",
   "execution_count": 8,
   "id": "5865d09f",
   "metadata": {},
   "outputs": [
    {
     "data": {
      "text/plain": [
       "2996394716272"
      ]
     },
     "execution_count": 8,
     "metadata": {},
     "output_type": "execute_result"
    }
   ],
   "source": [
    "# instance variables are declared within the __init__() method \n",
    "c2 = circle(12)\n",
    "id(c2)"
   ]
  },
  {
   "cell_type": "code",
   "execution_count": 9,
   "id": "fdf60ad2",
   "metadata": {},
   "outputs": [
    {
     "data": {
      "text/plain": [
       "False"
      ]
     },
     "execution_count": 9,
     "metadata": {},
     "output_type": "execute_result"
    }
   ],
   "source": [
    "a = circle(3)\n",
    "b = circle(45)\n",
    "a == b"
   ]
  },
  {
   "cell_type": "code",
   "execution_count": 18,
   "id": "5ab01b2d",
   "metadata": {},
   "outputs": [],
   "source": [
    "class MyClass :\n",
    "    @classmethod\n",
    "    def hello(self, name) :\n",
    "        print(self)\n",
    "        print('Hello from ', self.__name__, ',', name)\n",
    "        "
   ]
  },
  {
   "cell_type": "code",
   "execution_count": 19,
   "id": "55ffd39b",
   "metadata": {},
   "outputs": [
    {
     "name": "stdout",
     "output_type": "stream",
     "text": [
      "<class '__main__.MyClass'>\n",
      "Hello from  MyClass , Rakesh\n"
     ]
    }
   ],
   "source": [
    "MyClass.hello('Rakesh')\n",
    "# @classmethod is useed to call methods of class without creating instances or objects "
   ]
  },
  {
   "cell_type": "code",
   "execution_count": 21,
   "id": "88b5cd6d",
   "metadata": {},
   "outputs": [],
   "source": [
    "# INSTANCE METJHOD\n",
    "class MyClass():\n",
    "    def hello(self) :\n",
    "        print('hello from ', self.__class__.__name__)"
   ]
  },
  {
   "cell_type": "code",
   "execution_count": 22,
   "id": "c2704d29",
   "metadata": {},
   "outputs": [
    {
     "name": "stdout",
     "output_type": "stream",
     "text": [
      "hello from  MyClass\n"
     ]
    }
   ],
   "source": [
    "myinstance1 = MyClass()\n",
    "myinstance1.hello()"
   ]
  },
  {
   "cell_type": "code",
   "execution_count": 23,
   "id": "b39899ac",
   "metadata": {},
   "outputs": [
    {
     "name": "stdout",
     "output_type": "stream",
     "text": [
      "Hello World!\n"
     ]
    }
   ],
   "source": [
    "# Static method is declared with @staticmethod decorator \n",
    "# static functions can only be called by static member function or static instances \n",
    "# can be invoked via class object or instance object \n",
    "# does not depend on state of object \n",
    "\n",
    "class MyClass :\n",
    "    @staticmethod\n",
    "    def hello() :\n",
    "        print(\"Hello World!\")\n",
    "\n",
    "\n",
    "myinstance1 = MyClass()\n",
    "myinstance1.hello()"
   ]
  },
  {
   "cell_type": "markdown",
   "id": "20dd0c7f",
   "metadata": {},
   "source": [
    "# Inheritance"
   ]
  },
  {
   "cell_type": "code",
   "execution_count": 29,
   "id": "ca794a65",
   "metadata": {},
   "outputs": [],
   "source": [
    "class Cylinder(circle) :\n",
    "    def __init__(self, radius = 1.0, height = 1.0) :\n",
    "        '''Initialiser'''\n",
    "        super().__init__(radius) \n",
    "        self.height = height\n",
    "        \n",
    "    '''def __str__(self) :\n",
    "        # if __str__ is missing in subclass print() will invoke subclass version \n",
    "        return 'Cylinder(radius = {}, height={})'.format(self.radius, self.height) '''\n",
    "    \n",
    "    def get_volume(self) :\n",
    "        return self.get_area() * selh.height\n",
    "    "
   ]
  },
  {
   "cell_type": "code",
   "execution_count": 30,
   "id": "857462db",
   "metadata": {},
   "outputs": [],
   "source": [
    "cy1 = Cylinder(2.1, 1.1)"
   ]
  },
  {
   "cell_type": "code",
   "execution_count": 32,
   "id": "63e28386",
   "metadata": {},
   "outputs": [
    {
     "name": "stdout",
     "output_type": "stream",
     "text": [
      "This is a circle with radius of 2.10\n"
     ]
    }
   ],
   "source": [
    "print(cy1) # subclass __str__ is missing hence super().__str__() is called"
   ]
  },
  {
   "cell_type": "code",
   "execution_count": 44,
   "id": "5fca4c63",
   "metadata": {},
   "outputs": [],
   "source": [
    "class Cylinder(circle) :\n",
    "    def __init__(self, radius = 1.0, height = 1.0) :\n",
    "        '''Initialiser'''\n",
    "        super().__init__(radius) \n",
    "        self.height = height\n",
    "        \n",
    "    def __str__(self) :\n",
    "        # if __str__ is missing in subclass print() will invoke subclass version \n",
    "        return 'Cylinder(radius = {}, height={})'.format(self.radius, self.height)\n",
    "    \n",
    "    def get_volume(self) :\n",
    "        return self.get_area() * self.height\n",
    "    "
   ]
  },
  {
   "cell_type": "code",
   "execution_count": 45,
   "id": "e3e3a368",
   "metadata": {},
   "outputs": [],
   "source": [
    "cy1 = Cylinder(2.1, 1.1)"
   ]
  },
  {
   "cell_type": "code",
   "execution_count": 46,
   "id": "e9f15352",
   "metadata": {},
   "outputs": [
    {
     "name": "stdout",
     "output_type": "stream",
     "text": [
      "Cylinder(radius = 2.1, height=1.1)\n"
     ]
    }
   ],
   "source": [
    "print(cy1)"
   ]
  },
  {
   "cell_type": "code",
   "execution_count": 47,
   "id": "97ed46ed",
   "metadata": {},
   "outputs": [
    {
     "name": "stdout",
     "output_type": "stream",
     "text": [
      "13.854423602330987\n"
     ]
    }
   ],
   "source": [
    "print(cy1.get_area())"
   ]
  },
  {
   "cell_type": "code",
   "execution_count": 48,
   "id": "8794034b",
   "metadata": {},
   "outputs": [
    {
     "name": "stdout",
     "output_type": "stream",
     "text": [
      "15.239865962564087\n"
     ]
    }
   ],
   "source": [
    "print(cy1.get_volume())"
   ]
  },
  {
   "cell_type": "code",
   "execution_count": null,
   "id": "f4273641",
   "metadata": {},
   "outputs": [],
   "source": [
    "# Types Of Inheritence in Python\n",
    "Single Inhritance\n",
    "Multiple Inhritance\n",
    "Multilevel Inhritance\n",
    "Hierarchial Inhritance\n",
    "Hybrid Inhritance"
   ]
  },
  {
   "cell_type": "markdown",
   "id": "16b9972a",
   "metadata": {},
   "source": [
    "# Single Inheritance "
   ]
  },
  {
   "cell_type": "code",
   "execution_count": 52,
   "id": "9f79e41b",
   "metadata": {},
   "outputs": [],
   "source": [
    "# one base class and one inheritance class\n",
    "\n",
    "class Country :\n",
    "    def show_country(self) :\n",
    "        print('This is India')\n",
    "    \n",
    "class state(Country) :\n",
    "    def show_state(self) :\n",
    "        print('This is Uttar Pradesh')"
   ]
  },
  {
   "cell_type": "code",
   "execution_count": 53,
   "id": "a4df239c",
   "metadata": {},
   "outputs": [
    {
     "name": "stdout",
     "output_type": "stream",
     "text": [
      "This is India\n",
      "This is Uttar Pradesh\n"
     ]
    }
   ],
   "source": [
    "st = state()\n",
    "\n",
    "st.show_country()\n",
    "st.show_state()"
   ]
  },
  {
   "cell_type": "code",
   "execution_count": 54,
   "id": "d315fa8a",
   "metadata": {},
   "outputs": [],
   "source": [
    "# multiple + multilevel inheritance is called Hybrid Inheritance"
   ]
  },
  {
   "cell_type": "code",
   "execution_count": null,
   "id": "12510903",
   "metadata": {},
   "outputs": [],
   "source": [
    "# Polymorphism through method overloading \n",
    "sum(a, ,b)\n",
    "sum(a, b, c, d) # default argumentation "
   ]
  },
  {
   "cell_type": "code",
   "execution_count": null,
   "id": "0cb7e3e8",
   "metadata": {},
   "outputs": [],
   "source": [
    "# Polymorphism through inheritance --- method overriding\n",
    "method overriding provides ability to change the implementation of method in a child class which is already defined in \n",
    "one of its super class\n",
    "\n",
    "# Operator Overloading \n",
    "internal method that provide functionality for the operators known as Magic Method in Python \n"
   ]
  },
  {
   "cell_type": "code",
   "execution_count": 55,
   "id": "968fb0d3",
   "metadata": {},
   "outputs": [
    {
     "name": "stdout",
     "output_type": "stream",
     "text": [
      "(6, 11)\n"
     ]
    }
   ],
   "source": [
    "class point :\n",
    "    def __init__(self, x, y) :\n",
    "        self.x = x\n",
    "        self.y = y \n",
    "        \n",
    "    # overriding method\n",
    "    def __add__(self, other) :\n",
    "        return self.x+other.x, self.y+other.y\n",
    "\n",
    "p1 = point(1, 3)\n",
    "p2 = point(5, 8)\n",
    "print(p1+p2)"
   ]
  },
  {
   "cell_type": "code",
   "execution_count": null,
   "id": "a889b8e5",
   "metadata": {},
   "outputs": [],
   "source": []
  }
 ],
 "metadata": {
  "kernelspec": {
   "display_name": "Python 3 (ipykernel)",
   "language": "python",
   "name": "python3"
  },
  "language_info": {
   "codemirror_mode": {
    "name": "ipython",
    "version": 3
   },
   "file_extension": ".py",
   "mimetype": "text/x-python",
   "name": "python",
   "nbconvert_exporter": "python",
   "pygments_lexer": "ipython3",
   "version": "3.9.12"
  }
 },
 "nbformat": 4,
 "nbformat_minor": 5
}
