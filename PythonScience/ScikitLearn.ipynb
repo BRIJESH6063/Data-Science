{
 "cells": [
  {
   "cell_type": "code",
   "execution_count": 2,
   "id": "47c3d1a0",
   "metadata": {},
   "outputs": [],
   "source": [
    "# purpose --\n",
    "# 1. Classification (identifying which category an object belong to )  Customer Segmentation\n",
    "# 2. Regression (Predicting an attribute associated with object) improving model accuracy via parameter vtuning \n",
    "\n",
    "# Dimensionality -- Reducing the number of random variables to consider \n",
    "# Pre-Processing -- Feature extraction and normalisation \n"
   ]
  },
  {
   "cell_type": "code",
   "execution_count": null,
   "id": "08ce72ec",
   "metadata": {},
   "outputs": [],
   "source": [
    "import pandas as pd \n",
    "import seaborn as sns\n",
    "import matplotlib.pyplot as plt\n",
    "from sklearn.ensemble import RandonForestClassifier\n",
    "from sklearn.svm import svc\n",
    "from sklearn import svm\n"
   ]
  }
 ],
 "metadata": {
  "kernelspec": {
   "display_name": "Python 3 (ipykernel)",
   "language": "python",
   "name": "python3"
  },
  "language_info": {
   "codemirror_mode": {
    "name": "ipython",
    "version": 3
   },
   "file_extension": ".py",
   "mimetype": "text/x-python",
   "name": "python",
   "nbconvert_exporter": "python",
   "pygments_lexer": "ipython3",
   "version": "3.9.12"
  }
 },
 "nbformat": 4,
 "nbformat_minor": 5
}
